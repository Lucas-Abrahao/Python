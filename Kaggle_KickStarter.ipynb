{
  "nbformat": 4,
  "nbformat_minor": 0,
  "metadata": {
    "colab": {
      "name": "Kaggle KickStarter.ipynb",
      "provenance": [],
      "authorship_tag": "ABX9TyP68ZNxML3qcnz4UtZqTggL",
      "include_colab_link": true
    },
    "kernelspec": {
      "name": "python3",
      "display_name": "Python 3"
    }
  },
  "cells": [
    {
      "cell_type": "markdown",
      "metadata": {
        "id": "view-in-github",
        "colab_type": "text"
      },
      "source": [
        "<a href=\"https://colab.research.google.com/github/Lucas-Abrahao/Python/blob/master/Kaggle_KickStarter.ipynb\" target=\"_parent\"><img src=\"https://colab.research.google.com/assets/colab-badge.svg\" alt=\"Open In Colab\"/></a>"
      ]
    },
    {
      "cell_type": "markdown",
      "metadata": {
        "id": "ovtH2Z6Srhmc"
      },
      "source": [
        "Aula 01 Manufatura\n",
        "\n",
        "Qual categoria de projetos arrecadou mais dinheiro ?\n",
        "\n",
        "Separar os projetos entre os que deram e não deram certo\n",
        "\n",
        "Qual categoria mais superou o valor original estabelecido ?\n",
        "\n",
        "Qual o melhor mes para lançar um projeto ?\n",
        "\n",
        "Qual a categoria que tem mais chances de dar certo ?\n",
        "\n"
      ]
    },
    {
      "cell_type": "code",
      "metadata": {
        "id": "T7MxpX9vqmu5"
      },
      "source": [
        "import pandas as pd\n",
        "import matplotlib.pyplot as plt\n",
        "\n",
        "#dados = pd.read_csv(\"../input/kickstarter-projects/ks-projects-201801.csv\")\n",
        "\n",
        "dados.head(10)\n",
        "\n"
      ],
      "execution_count": 15,
      "outputs": []
    },
    {
      "cell_type": "code",
      "metadata": {
        "id": "s4LoGRjG96x7"
      },
      "source": [
        "dados.shape"
      ],
      "execution_count": null,
      "outputs": []
    },
    {
      "cell_type": "code",
      "metadata": {
        "id": "COUxN7dy9_Fz"
      },
      "source": [
        "dados.columns.values"
      ],
      "execution_count": null,
      "outputs": []
    },
    {
      "cell_type": "code",
      "metadata": {
        "id": "Dtc5O5f1-Bf7"
      },
      "source": [
        "dados[\"category\"].unique()"
      ],
      "execution_count": null,
      "outputs": []
    },
    {
      "cell_type": "code",
      "metadata": {
        "id": "KnU2li_I-Due"
      },
      "source": [
        "dados[\"main_category\"].unique()"
      ],
      "execution_count": null,
      "outputs": []
    },
    {
      "cell_type": "code",
      "metadata": {
        "id": "Sa2tyOpt-GMl"
      },
      "source": [
        "dados.describe()"
      ],
      "execution_count": null,
      "outputs": []
    },
    {
      "cell_type": "markdown",
      "metadata": {
        "id": "bn46Jibl-OGT"
      },
      "source": [
        "01: Qual categoria de projetos arrecadou mais dinheiro ?"
      ]
    },
    {
      "cell_type": "code",
      "metadata": {
        "id": "JzM8yGEM-Rqo"
      },
      "source": [
        "dados[[\"main_category\",\"pledged\"]].value_counts().sort_index()"
      ],
      "execution_count": null,
      "outputs": []
    },
    {
      "cell_type": "code",
      "metadata": {
        "id": "QfMhs8Oy-Uyz"
      },
      "source": [
        "by_category = dados.groupby('main_category')"
      ],
      "execution_count": null,
      "outputs": []
    },
    {
      "cell_type": "code",
      "metadata": {
        "id": "DRpcJ_oU-XSS"
      },
      "source": [
        "by_category.describe()"
      ],
      "execution_count": null,
      "outputs": []
    },
    {
      "cell_type": "code",
      "metadata": {
        "id": "ipB61Po4-ZT5"
      },
      "source": [
        "by_category['pledged'].sum()"
      ],
      "execution_count": null,
      "outputs": []
    },
    {
      "cell_type": "markdown",
      "metadata": {
        "id": "yKxFE7Zc-eFw"
      },
      "source": [
        "Separar os Projetos Entre os que Deram e não Deram Certo"
      ]
    },
    {
      "cell_type": "code",
      "metadata": {
        "id": "3StBlOe1-iFR"
      },
      "source": [
        "dados['state'].unique()"
      ],
      "execution_count": null,
      "outputs": []
    },
    {
      "cell_type": "code",
      "metadata": {
        "id": "cP8cADi3-7l9"
      },
      "source": [
        "sucesso = dados.query(\"state == 'successful'\")\n",
        "falhos = dados.query(\"state == 'failed'\")\n",
        "andamento = dados.query(\"state == 'live'\")\n",
        "cancelados = dados.query(\"state == 'canceled'\")\n",
        "suspensos = dados.query(\"state == 'suspended'\")\n",
        "nd = dados.query(\"state == 'undefined'\")"
      ],
      "execution_count": null,
      "outputs": []
    },
    {
      "cell_type": "code",
      "metadata": {
        "id": "ZNU8eRvx_0tJ"
      },
      "source": [
        "sucesso.head()"
      ],
      "execution_count": null,
      "outputs": []
    },
    {
      "cell_type": "code",
      "metadata": {
        "id": "IllGav4j_2_A"
      },
      "source": [
        "falhos.head()"
      ],
      "execution_count": null,
      "outputs": []
    }
  ]
}