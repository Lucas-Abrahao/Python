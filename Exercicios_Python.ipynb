{
  "nbformat": 4,
  "nbformat_minor": 0,
  "metadata": {
    "colab": {
      "name": "Exercicios Python.ipynb",
      "provenance": [],
      "authorship_tag": "ABX9TyOuGiuj3ANVBdNvBKHQNWso",
      "include_colab_link": true
    },
    "kernelspec": {
      "name": "python3",
      "display_name": "Python 3"
    }
  },
  "cells": [
    {
      "cell_type": "markdown",
      "metadata": {
        "id": "view-in-github",
        "colab_type": "text"
      },
      "source": [
        "<a href=\"https://colab.research.google.com/github/Lucas-Abrahao/Python/blob/master/Exercicios_Python.ipynb\" target=\"_parent\"><img src=\"https://colab.research.google.com/assets/colab-badge.svg\" alt=\"Open In Colab\"/></a>"
      ]
    },
    {
      "cell_type": "markdown",
      "metadata": {
        "id": "m_zdr9JMSYgH",
        "colab_type": "text"
      },
      "source": [
        "Verifica se Dois Números são iguais"
      ]
    },
    {
      "cell_type": "code",
      "metadata": {
        "id": "iceSYZYERmtB",
        "colab_type": "code",
        "colab": {
          "base_uri": "https://localhost:8080/",
          "height": 68
        },
        "outputId": "061387e1-2308-4482-96f8-dd8b629bba66"
      },
      "source": [
        "a = int(input(\"valor 1\"))\n",
        "b = int (input(\"valor 2\"))\n",
        "\n",
        "igual = (a == b)\n",
        "print(a,\"é igual a\",b,\"?\",\"Resposta:\",igual)"
      ],
      "execution_count": null,
      "outputs": [
        {
          "output_type": "stream",
          "text": [
            "valor 12\n",
            "valor 22\n",
            "2 é igual a 2 ? Resposta: True\n"
          ],
          "name": "stdout"
        }
      ]
    },
    {
      "cell_type": "markdown",
      "metadata": {
        "id": "ffgNBLPMStus",
        "colab_type": "text"
      },
      "source": [
        "Soma de Dois Numeros"
      ]
    },
    {
      "cell_type": "code",
      "metadata": {
        "id": "W44XNVaOSfGu",
        "colab_type": "code",
        "colab": {
          "base_uri": "https://localhost:8080/",
          "height": 68
        },
        "outputId": "188fbb85-d751-4229-a2d8-4bfbb8b631ec"
      },
      "source": [
        "a = input(\"valor 1 ?\")\n",
        "b = input (\"valor 2 ?\")\n",
        "soma = int (a) + int (b)\n",
        "print (soma)"
      ],
      "execution_count": null,
      "outputs": [
        {
          "output_type": "stream",
          "text": [
            "valor 1 ?5\n",
            "valor 2 ?5\n",
            "10\n"
          ],
          "name": "stdout"
        }
      ]
    },
    {
      "cell_type": "markdown",
      "metadata": {
        "id": "_T6228xyTC4T",
        "colab_type": "text"
      },
      "source": [
        "Calculadora Simples"
      ]
    },
    {
      "cell_type": "code",
      "metadata": {
        "id": "iWBRmrfaS38o",
        "colab_type": "code",
        "colab": {}
      },
      "source": [
        "a = float(input(\"Qual numero?\"))\n",
        "b = float(input(\"Qual numero?\"))\n",
        "\n",
        "op = int(input(\"Qual Operação deseja fazer ? 1 - SOMA | 2 - SUBTRAÇÃO | 3 - MULTIPLICAÇÃO | 4 - DIVISÃO|\"))\n",
        "\n",
        "if op == 1:\n",
        "    print(a+b)\n",
        "elif op == 2:\n",
        "    print(a-b)\n",
        "elif op == 3:\n",
        "    print(a*b)\n",
        "elif op == 4:\n",
        "    print(a/b)\n",
        "else:\n",
        "    print(\"Opção invalida\")"
      ],
      "execution_count": null,
      "outputs": []
    },
    {
      "cell_type": "markdown",
      "metadata": {
        "id": "M5djja4dTWKR",
        "colab_type": "text"
      },
      "source": [
        "Adiciona 15% ao Salario"
      ]
    },
    {
      "cell_type": "code",
      "metadata": {
        "id": "eCLoNrRVTSj9",
        "colab_type": "code",
        "colab": {}
      },
      "source": [
        "salario = float(input(\"qual seu salario?\"))\n",
        "salario += 0.15 * salario\n",
        "print(\"O novo salario é:\",salario)\n"
      ],
      "execution_count": null,
      "outputs": []
    },
    {
      "cell_type": "markdown",
      "metadata": {
        "id": "3XfQdPIrTxv7",
        "colab_type": "text"
      },
      "source": [
        "Calcular o preço da Passagem de Acordo com a Distancia"
      ]
    },
    {
      "cell_type": "code",
      "metadata": {
        "id": "3CIF6JodTf2t",
        "colab_type": "code",
        "colab": {}
      },
      "source": [
        "distancia = float(input(\"Qual a distancia da sua viagem? (Km)\"))\n",
        "\n",
        "if distancia <= 200 :\n",
        "    preco = distancia * 0.50\n",
        "    print(\"O preço da passagem é de R$\",preco)\n",
        "\n",
        "elif distancia > 200 :\n",
        "    preco = distancia * 0.45\n",
        "    print(\"O preço da passagem é de R$\",preco)"
      ],
      "execution_count": null,
      "outputs": []
    },
    {
      "cell_type": "markdown",
      "metadata": {
        "id": "-pvujt-LUENc",
        "colab_type": "text"
      },
      "source": [
        "Contador While"
      ]
    },
    {
      "cell_type": "code",
      "metadata": {
        "id": "L8YPUqoLUHcM",
        "colab_type": "code",
        "colab": {}
      },
      "source": [
        "x = 1\n",
        "while x <= 100:\n",
        "    print(x)\n",
        "    x += 1\n",
        "\n"
      ],
      "execution_count": null,
      "outputs": []
    },
    {
      "cell_type": "markdown",
      "metadata": {
        "id": "59iyKWn2UTVF",
        "colab_type": "text"
      },
      "source": [
        "Contador For"
      ]
    },
    {
      "cell_type": "code",
      "metadata": {
        "id": "x9pTtg12UNx5",
        "colab_type": "code",
        "colab": {}
      },
      "source": [
        "x = 1\n",
        "\n",
        "for x in range (101):\n",
        "    print(x)"
      ],
      "execution_count": null,
      "outputs": []
    },
    {
      "cell_type": "markdown",
      "metadata": {
        "id": "vJ8556NKUim0",
        "colab_type": "text"
      },
      "source": [
        "Calcula o Valor de uma Multa"
      ]
    },
    {
      "cell_type": "code",
      "metadata": {
        "id": "eyE9KqqwUlNt",
        "colab_type": "code",
        "colab": {}
      },
      "source": [
        "vel = int(input(\"Qual sua velocidade?\"))\n",
        "\n",
        "if vel > 80 :\n",
        "    vel = (vel - 80)\n",
        "    multa = vel *5\n",
        "    print(\"Voce foi multado em R$\",multa)\n"
      ],
      "execution_count": null,
      "outputs": []
    },
    {
      "cell_type": "markdown",
      "metadata": {
        "id": "sNlkPzuZUucl",
        "colab_type": "text"
      },
      "source": [
        "Total a Pagar por Km e Dias"
      ]
    },
    {
      "cell_type": "code",
      "metadata": {
        "id": "XUfiz4GAUxH1",
        "colab_type": "code",
        "colab": {}
      },
      "source": [
        "km = float(input(\"Quantos kilometros percorridos ?\"))\n",
        "dias = int(input(\"Quantos dias ficou com o carro?\"))\n",
        "total = (60.00 * dias) + (0.15 * km)\n",
        "print(\"O total a pagar é: R$\",total)"
      ],
      "execution_count": null,
      "outputs": []
    },
    {
      "cell_type": "markdown",
      "metadata": {
        "id": "R_KjYcSGU_nE",
        "colab_type": "text"
      },
      "source": [
        "Verifica se Passou nas Materias"
      ]
    },
    {
      "cell_type": "code",
      "metadata": {
        "id": "nasHldlFVC8j",
        "colab_type": "code",
        "colab": {
          "base_uri": "https://localhost:8080/",
          "height": 85
        },
        "outputId": "0094eed2-798b-4e7d-e004-d3807f524fe5"
      },
      "source": [
        "mat1 = float(input(\"materia 1 nota:\"))\n",
        "mat2 = float(input(\"materia 2 nota:\"))\n",
        "mat3 = float(input(\"materia 3 nota:\"))\n",
        "\n",
        "passou = mat1 >= 60 and mat2 >= 60 and mat3 >=60\n",
        "print(passou)\n",
        "             "
      ],
      "execution_count": null,
      "outputs": [
        {
          "output_type": "stream",
          "text": [
            "materia 1 nota:85\n",
            "materia 2 nota:65\n",
            "materia 3 nota:45\n",
            "False\n"
          ],
          "name": "stdout"
        }
      ]
    },
    {
      "cell_type": "markdown",
      "metadata": {
        "id": "IP4UYGy4VTVf",
        "colab_type": "text"
      },
      "source": [
        "Verifica se Pode ser triangulo"
      ]
    },
    {
      "cell_type": "code",
      "metadata": {
        "id": "QUIF6cVcVWir",
        "colab_type": "code",
        "colab": {}
      },
      "source": [
        "a = int(input(\"aresta A\"))\n",
        "b = int(input(\"aresta B\"))\n",
        "c = int(input(\"aresta C\"))\n",
        "\n",
        "cond1 = abs(b-c) < a <(b+c)\n",
        "cond2 = abs(a-c) < b <(a+c)\n",
        "cond3 = abs(a-b) < c <(a+b)\n",
        "\n",
        "print(\"pode ser um triangulo ?\",cond1 or cond2 or cond3)"
      ],
      "execution_count": null,
      "outputs": []
    },
    {
      "cell_type": "markdown",
      "metadata": {
        "id": "7PJPCGjIVkO3",
        "colab_type": "text"
      },
      "source": [
        "De acordo com o Raio Calcula Comprimento e Area"
      ]
    },
    {
      "cell_type": "code",
      "metadata": {
        "id": "lM_DJROhVsZw",
        "colab_type": "code",
        "colab": {}
      },
      "source": [
        "r = int (input(\"Qual o raio ?\"))\n",
        "comp = 2*3.14*r\n",
        "print(\"O comprimento é:\",comp)\n",
        "area = (4/3)*(3.14*(r**2))\n",
        "print(\"A area é:\",area)\n"
      ],
      "execution_count": null,
      "outputs": []
    },
    {
      "cell_type": "markdown",
      "metadata": {
        "id": "n-RS0vlaVun6",
        "colab_type": "text"
      },
      "source": [
        "Função Area do Triangulo"
      ]
    },
    {
      "cell_type": "code",
      "metadata": {
        "id": "xuxyA37hV-x_",
        "colab_type": "code",
        "colab": {}
      },
      "source": [
        "def area_triangulo (base,altura):\n",
        "    return (base*altura)/2"
      ],
      "execution_count": null,
      "outputs": []
    },
    {
      "cell_type": "markdown",
      "metadata": {
        "id": "OlOrHLpyHn2Z",
        "colab_type": "text"
      },
      "source": [
        "Lista Puppy Bayes DataCamp"
      ]
    },
    {
      "cell_type": "code",
      "metadata": {
        "id": "L77b_SxRHmIq",
        "colab_type": "code",
        "colab": {
          "base_uri": "https://localhost:8080/",
          "height": 34
        },
        "outputId": "68e5356d-0582-4a59-d338-3f26d4619249"
      },
      "source": [
        "\"\"\" bayes_age = 4.0\n",
        "favorite_toy = \"Mr.Squeaky\"\n",
        "owner = 'DataCamp'\n",
        "birthday = \"2017-07-14\"\n",
        "case_id = 'DATACAMP!123-456? \n",
        "race = 'Golden Retriever'  \"\"\"\n",
        "\n",
        "bayes = {\"bayes_age\": 4.0, \"favorite_toy\": \"Mr.Squeaky\", \"owner\": 'DataCamp', \"birthday\": \"2017-07-14\", \"case_id\": 'DATACAMP!123-456?', \"race\": 'Golden Retriever'}\n",
        "\n",
        "print(bayes)"
      ],
      "execution_count": null,
      "outputs": [
        {
          "output_type": "stream",
          "text": [
            "{'bayes_age': 4.0, 'favorite_toy': 'Mr.Squeaky', 'owner': 'DataCamp', 'birthday': '2017-07-14', 'case_id': 'DATACAMP!123-456?', 'race': 'Golden Retriever'}\n"
          ],
          "name": "stdout"
        }
      ]
    },
    {
      "cell_type": "markdown",
      "metadata": {
        "id": "BI7chQ9IWEO7",
        "colab_type": "text"
      },
      "source": [
        "Função Comparar Strings em Lista"
      ]
    },
    {
      "cell_type": "code",
      "metadata": {
        "id": "fXOEqRUVWRp6",
        "colab_type": "code",
        "colab": {}
      },
      "source": [
        "def comparacao (texto,lista):\n",
        "    for item in lista:\n",
        "        if texto == item:\n",
        "            return True\n",
        "    return False"
      ],
      "execution_count": null,
      "outputs": []
    },
    {
      "cell_type": "markdown",
      "metadata": {
        "id": "0xsB-EsvWSq-",
        "colab_type": "text"
      },
      "source": [
        "Append"
      ]
    },
    {
      "cell_type": "code",
      "metadata": {
        "id": "dAVGVAWPWbuN",
        "colab_type": "code",
        "colab": {}
      },
      "source": [
        "print(\"pressione 0(ZERO) para sair\")\n",
        "lista = []\n",
        "x =1\n",
        "while x != 0:\n",
        "    x = int(input(\"digite um número: \"))\n",
        "    if x !=0:\n",
        "        lista.append(x)\n",
        "print(lista)\n",
        "soma = 0\n",
        "for x in lista:\n",
        "    soma += x\n",
        "media = soma / len(lista)\n",
        "print(len(lista),\"numeros digitados, somando\",soma,\"e com média\",media)"
      ],
      "execution_count": null,
      "outputs": []
    },
    {
      "cell_type": "markdown",
      "metadata": {
        "id": "5lFDDwzuWgxI",
        "colab_type": "text"
      },
      "source": [
        "Dicionário"
      ]
    },
    {
      "cell_type": "code",
      "metadata": {
        "id": "djP10-EpWqgd",
        "colab_type": "code",
        "colab": {}
      },
      "source": [
        "dados = {\"nome\":input (\"Qual seu nome?\"),\"idade\": input(\"Qual sua idade?\"), \"telefone\": input(\"Qual seu telefone?\")}\n",
        "print(dados)"
      ],
      "execution_count": null,
      "outputs": []
    },
    {
      "cell_type": "markdown",
      "metadata": {
        "id": "e5xVJHIhWub5",
        "colab_type": "text"
      },
      "source": [
        "Função Retorna Valor"
      ]
    },
    {
      "cell_type": "code",
      "metadata": {
        "id": "g3tk6NHWW4Le",
        "colab_type": "code",
        "colab": {}
      },
      "source": [
        "def retorna_mensagem (valor):\n",
        "    return \"o valor é:\" + valor"
      ],
      "execution_count": null,
      "outputs": []
    },
    {
      "cell_type": "markdown",
      "metadata": {
        "id": "TeF0utd5W-q6",
        "colab_type": "text"
      },
      "source": [
        "Classe Cliente"
      ]
    },
    {
      "cell_type": "code",
      "metadata": {
        "id": "GQ-b9D0tXAHk",
        "colab_type": "code",
        "colab": {}
      },
      "source": [
        "class cliente ():\n",
        "    def __init__(self):\n",
        "        self.nome = \"\"\n",
        "        self.idade = \"\"\n",
        "        self.telefone = \"\"\n",
        "\n",
        "    def mudar_nome(self,nome):\n",
        "        self.nome = nome\n",
        "        print(\"Novo nome:\",nome)\n",
        "\n",
        "    def mudar_idade (self,idade):\n",
        "        self.idade = idade\n",
        "        print(\"Nova Idade:\",idade)"
      ],
      "execution_count": null,
      "outputs": []
    },
    {
      "cell_type": "markdown",
      "metadata": {
        "id": "tNgVOWhCJSeu",
        "colab_type": "text"
      },
      "source": [
        "Grafico"
      ]
    },
    {
      "cell_type": "code",
      "metadata": {
        "id": "CdxuVhXbJU2T",
        "colab_type": "code",
        "colab": {}
      },
      "source": [
        "import pandas as pd\n",
        "# import matplotlib \n",
        "from matplotlib import pyplot as plt \n",
        "\n",
        "plt.xlabel('eixo X') # nomeia o eixo x\n",
        "plt.ylabe('eixo Y') # nomeia o eixo Y\n",
        "plt.title(\"titulo\") # adiciona titulo ao grafico "
      ],
      "execution_count": null,
      "outputs": []
    },
    {
      "cell_type": "markdown",
      "metadata": {
        "id": "PrpXBD_V7laN",
        "colab_type": "text"
      },
      "source": [
        "\n",
        "Data e Hora\n",
        "\n",
        "---\n",
        "\n"
      ]
    },
    {
      "cell_type": "code",
      "metadata": {
        "id": "NiVqBN3S72dq",
        "colab_type": "code",
        "colab": {
          "base_uri": "https://localhost:8080/",
          "height": 68
        },
        "outputId": "da7e7ee9-ca2c-46f4-d201-b788445beb38"
      },
      "source": [
        "from datetime import datetime\n",
        "from pytz import timezone #biblioteca de fuso horario - timezone\n",
        "\n",
        "local = datetime.now()\n",
        "utc = datetime.utcnow()\n",
        "#alterando o fuso horário\n",
        "data = datetime.strptime('09/09/2020 14:40','%d/%m/%Y  %H:%M') #define o tipo de data\n",
        "sp_tz = timezone('America/Sao_Paulo') #define timezone\n",
        "sp_dt = data.replace(tzinfo=sp_tz) \n",
        "\n",
        "\n",
        "print(local)\n",
        "print(utc)\n",
        "print(sp_dt)"
      ],
      "execution_count": null,
      "outputs": [
        {
          "output_type": "stream",
          "text": [
            "2020-09-09 17:47:52.493883\n",
            "2020-09-09 17:47:52.493907\n",
            "2020-09-09 14:40:00-03:06\n"
          ],
          "name": "stdout"
        }
      ]
    }
  ]
}