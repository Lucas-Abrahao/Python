{
  "nbformat": 4,
  "nbformat_minor": 0,
  "metadata": {
    "colab": {
      "name": "Alura Dados.ipynb",
      "provenance": [],
      "authorship_tag": "ABX9TyMov+flwVjS1A4I9NFKxI4e",
      "include_colab_link": true
    },
    "kernelspec": {
      "name": "python3",
      "display_name": "Python 3"
    }
  },
  "cells": [
    {
      "cell_type": "markdown",
      "metadata": {
        "id": "view-in-github",
        "colab_type": "text"
      },
      "source": [
        "<a href=\"https://colab.research.google.com/github/Lucas-Abrahao/Python/blob/master/Alura_Dados.ipynb\" target=\"_parent\"><img src=\"https://colab.research.google.com/assets/colab-badge.svg\" alt=\"Open In Colab\"/></a>"
      ]
    },
    {
      "cell_type": "code",
      "metadata": {
        "id": "IoQ5j7adQwgm",
        "outputId": "ea4b4eea-b8d5-4af6-f768-9a4539102c50",
        "colab": {
          "base_uri": "https://localhost:8080/",
          "height": 253
        }
      },
      "source": [
        "import pandas as pd\n",
        "import matplotlib.pyplot as plt\n",
        "\n",
        "fonte = \"https://github.com/alura-cursos/imersao-dados-2-2020/blob/master/MICRODADOS_ENEM_2019_SAMPLE_43278.csv?raw=true\"\n",
        "\n",
        "dados = pd.read_csv(fonte)\n",
        "dados.head()"
      ],
      "execution_count": 31,
      "outputs": [
        {
          "output_type": "execute_result",
          "data": {
            "text/html": [
              "<div>\n",
              "<style scoped>\n",
              "    .dataframe tbody tr th:only-of-type {\n",
              "        vertical-align: middle;\n",
              "    }\n",
              "\n",
              "    .dataframe tbody tr th {\n",
              "        vertical-align: top;\n",
              "    }\n",
              "\n",
              "    .dataframe thead th {\n",
              "        text-align: right;\n",
              "    }\n",
              "</style>\n",
              "<table border=\"1\" class=\"dataframe\">\n",
              "  <thead>\n",
              "    <tr style=\"text-align: right;\">\n",
              "      <th></th>\n",
              "      <th>NU_INSCRICAO</th>\n",
              "      <th>NU_ANO</th>\n",
              "      <th>CO_MUNICIPIO_RESIDENCIA</th>\n",
              "      <th>NO_MUNICIPIO_RESIDENCIA</th>\n",
              "      <th>CO_UF_RESIDENCIA</th>\n",
              "      <th>SG_UF_RESIDENCIA</th>\n",
              "      <th>NU_IDADE</th>\n",
              "      <th>TP_SEXO</th>\n",
              "      <th>TP_ESTADO_CIVIL</th>\n",
              "      <th>TP_COR_RACA</th>\n",
              "      <th>TP_NACIONALIDADE</th>\n",
              "      <th>CO_MUNICIPIO_NASCIMENTO</th>\n",
              "      <th>NO_MUNICIPIO_NASCIMENTO</th>\n",
              "      <th>CO_UF_NASCIMENTO</th>\n",
              "      <th>SG_UF_NASCIMENTO</th>\n",
              "      <th>TP_ST_CONCLUSAO</th>\n",
              "      <th>TP_ANO_CONCLUIU</th>\n",
              "      <th>TP_ESCOLA</th>\n",
              "      <th>TP_ENSINO</th>\n",
              "      <th>IN_TREINEIRO</th>\n",
              "      <th>CO_ESCOLA</th>\n",
              "      <th>CO_MUNICIPIO_ESC</th>\n",
              "      <th>NO_MUNICIPIO_ESC</th>\n",
              "      <th>CO_UF_ESC</th>\n",
              "      <th>SG_UF_ESC</th>\n",
              "      <th>TP_DEPENDENCIA_ADM_ESC</th>\n",
              "      <th>TP_LOCALIZACAO_ESC</th>\n",
              "      <th>TP_SIT_FUNC_ESC</th>\n",
              "      <th>IN_BAIXA_VISAO</th>\n",
              "      <th>IN_CEGUEIRA</th>\n",
              "      <th>IN_SURDEZ</th>\n",
              "      <th>IN_DEFICIENCIA_AUDITIVA</th>\n",
              "      <th>IN_SURDO_CEGUEIRA</th>\n",
              "      <th>IN_DEFICIENCIA_FISICA</th>\n",
              "      <th>IN_DEFICIENCIA_MENTAL</th>\n",
              "      <th>IN_DEFICIT_ATENCAO</th>\n",
              "      <th>IN_DISLEXIA</th>\n",
              "      <th>IN_DISCALCULIA</th>\n",
              "      <th>IN_AUTISMO</th>\n",
              "      <th>IN_VISAO_MONOCULAR</th>\n",
              "      <th>...</th>\n",
              "      <th>TX_RESPOSTAS_CH</th>\n",
              "      <th>TX_RESPOSTAS_LC</th>\n",
              "      <th>TX_RESPOSTAS_MT</th>\n",
              "      <th>TP_LINGUA</th>\n",
              "      <th>TX_GABARITO_CN</th>\n",
              "      <th>TX_GABARITO_CH</th>\n",
              "      <th>TX_GABARITO_LC</th>\n",
              "      <th>TX_GABARITO_MT</th>\n",
              "      <th>TP_STATUS_REDACAO</th>\n",
              "      <th>NU_NOTA_COMP1</th>\n",
              "      <th>NU_NOTA_COMP2</th>\n",
              "      <th>NU_NOTA_COMP3</th>\n",
              "      <th>NU_NOTA_COMP4</th>\n",
              "      <th>NU_NOTA_COMP5</th>\n",
              "      <th>NU_NOTA_REDACAO</th>\n",
              "      <th>Q001</th>\n",
              "      <th>Q002</th>\n",
              "      <th>Q003</th>\n",
              "      <th>Q004</th>\n",
              "      <th>Q005</th>\n",
              "      <th>Q006</th>\n",
              "      <th>Q007</th>\n",
              "      <th>Q008</th>\n",
              "      <th>Q009</th>\n",
              "      <th>Q010</th>\n",
              "      <th>Q011</th>\n",
              "      <th>Q012</th>\n",
              "      <th>Q013</th>\n",
              "      <th>Q014</th>\n",
              "      <th>Q015</th>\n",
              "      <th>Q016</th>\n",
              "      <th>Q017</th>\n",
              "      <th>Q018</th>\n",
              "      <th>Q019</th>\n",
              "      <th>Q020</th>\n",
              "      <th>Q021</th>\n",
              "      <th>Q022</th>\n",
              "      <th>Q023</th>\n",
              "      <th>Q024</th>\n",
              "      <th>Q025</th>\n",
              "    </tr>\n",
              "  </thead>\n",
              "  <tbody>\n",
              "    <tr>\n",
              "      <th>0</th>\n",
              "      <td>190001004661</td>\n",
              "      <td>2019</td>\n",
              "      <td>1506138</td>\n",
              "      <td>Redenção</td>\n",
              "      <td>15</td>\n",
              "      <td>PA</td>\n",
              "      <td>17</td>\n",
              "      <td>M</td>\n",
              "      <td>1</td>\n",
              "      <td>3</td>\n",
              "      <td>1</td>\n",
              "      <td>1506138.0</td>\n",
              "      <td>Redenção</td>\n",
              "      <td>15.0</td>\n",
              "      <td>PA</td>\n",
              "      <td>3</td>\n",
              "      <td>0</td>\n",
              "      <td>1</td>\n",
              "      <td>NaN</td>\n",
              "      <td>1</td>\n",
              "      <td>NaN</td>\n",
              "      <td>NaN</td>\n",
              "      <td>NaN</td>\n",
              "      <td>NaN</td>\n",
              "      <td>NaN</td>\n",
              "      <td>NaN</td>\n",
              "      <td>NaN</td>\n",
              "      <td>NaN</td>\n",
              "      <td>0</td>\n",
              "      <td>0</td>\n",
              "      <td>0</td>\n",
              "      <td>0</td>\n",
              "      <td>0</td>\n",
              "      <td>0</td>\n",
              "      <td>0</td>\n",
              "      <td>0</td>\n",
              "      <td>0</td>\n",
              "      <td>0</td>\n",
              "      <td>0</td>\n",
              "      <td>0</td>\n",
              "      <td>...</td>\n",
              "      <td>ACAEAAACABEBABAADCEEEDE*CBDCCCADADCCCBEBBBBDB</td>\n",
              "      <td>99999CCCABBCAADDBCEBCCADBEEBDECBAABDEACACAEABB...</td>\n",
              "      <td>DEEDCAECDDEEECBCBECABEBAECBBCDAECAEBBBBBDCCDB</td>\n",
              "      <td>1</td>\n",
              "      <td>DEADBAAAEBEECEBCBCBCBDADAEABCEDDDDADCBEECACBC</td>\n",
              "      <td>ACACEEBCCBABADBBBACDBBACCCCADCEBADCBEEDBBEADB</td>\n",
              "      <td>EBBADCABDABACBCEBDEEAAADDBECDECDDBADBCDAAECBCC...</td>\n",
              "      <td>AADDDBEEEBEDDBEBACABCDBABECECACAECDCBDCCEDCDA</td>\n",
              "      <td>1.0</td>\n",
              "      <td>60.0</td>\n",
              "      <td>100.0</td>\n",
              "      <td>80.0</td>\n",
              "      <td>80.0</td>\n",
              "      <td>100.0</td>\n",
              "      <td>420.0</td>\n",
              "      <td>B</td>\n",
              "      <td>B</td>\n",
              "      <td>A</td>\n",
              "      <td>A</td>\n",
              "      <td>4</td>\n",
              "      <td>B</td>\n",
              "      <td>A</td>\n",
              "      <td>C</td>\n",
              "      <td>B</td>\n",
              "      <td>A</td>\n",
              "      <td>C</td>\n",
              "      <td>B</td>\n",
              "      <td>A</td>\n",
              "      <td>A</td>\n",
              "      <td>A</td>\n",
              "      <td>A</td>\n",
              "      <td>A</td>\n",
              "      <td>A</td>\n",
              "      <td>A</td>\n",
              "      <td>B</td>\n",
              "      <td>A</td>\n",
              "      <td>C</td>\n",
              "      <td>A</td>\n",
              "      <td>B</td>\n",
              "      <td>B</td>\n",
              "    </tr>\n",
              "    <tr>\n",
              "      <th>1</th>\n",
              "      <td>190001004674</td>\n",
              "      <td>2019</td>\n",
              "      <td>1504208</td>\n",
              "      <td>Marabá</td>\n",
              "      <td>15</td>\n",
              "      <td>PA</td>\n",
              "      <td>23</td>\n",
              "      <td>M</td>\n",
              "      <td>1</td>\n",
              "      <td>3</td>\n",
              "      <td>1</td>\n",
              "      <td>1504208.0</td>\n",
              "      <td>Marabá</td>\n",
              "      <td>15.0</td>\n",
              "      <td>PA</td>\n",
              "      <td>1</td>\n",
              "      <td>3</td>\n",
              "      <td>1</td>\n",
              "      <td>1.0</td>\n",
              "      <td>0</td>\n",
              "      <td>NaN</td>\n",
              "      <td>NaN</td>\n",
              "      <td>NaN</td>\n",
              "      <td>NaN</td>\n",
              "      <td>NaN</td>\n",
              "      <td>NaN</td>\n",
              "      <td>NaN</td>\n",
              "      <td>NaN</td>\n",
              "      <td>0</td>\n",
              "      <td>0</td>\n",
              "      <td>0</td>\n",
              "      <td>0</td>\n",
              "      <td>0</td>\n",
              "      <td>0</td>\n",
              "      <td>0</td>\n",
              "      <td>0</td>\n",
              "      <td>0</td>\n",
              "      <td>0</td>\n",
              "      <td>0</td>\n",
              "      <td>0</td>\n",
              "      <td>...</td>\n",
              "      <td>ABBCEADCEBAAACACEDCDCDACCCACDCBCABCAACBDBDEDE</td>\n",
              "      <td>99999ABCEBCEDDECEEEBBCCEECCABDABEEBCDEAEBBEAEA...</td>\n",
              "      <td>NaN</td>\n",
              "      <td>1</td>\n",
              "      <td>NaN</td>\n",
              "      <td>CBABADBBCEEEBCBADCBEEDBBEADBBACDBBACCCCADACAC</td>\n",
              "      <td>BBEDABDACACBABAECBBCCADCEBDBBCDDEEAAADDBECDECA...</td>\n",
              "      <td>NaN</td>\n",
              "      <td>1.0</td>\n",
              "      <td>80.0</td>\n",
              "      <td>100.0</td>\n",
              "      <td>80.0</td>\n",
              "      <td>80.0</td>\n",
              "      <td>60.0</td>\n",
              "      <td>400.0</td>\n",
              "      <td>C</td>\n",
              "      <td>C</td>\n",
              "      <td>A</td>\n",
              "      <td>A</td>\n",
              "      <td>4</td>\n",
              "      <td>B</td>\n",
              "      <td>A</td>\n",
              "      <td>B</td>\n",
              "      <td>C</td>\n",
              "      <td>A</td>\n",
              "      <td>A</td>\n",
              "      <td>B</td>\n",
              "      <td>B</td>\n",
              "      <td>B</td>\n",
              "      <td>A</td>\n",
              "      <td>A</td>\n",
              "      <td>A</td>\n",
              "      <td>A</td>\n",
              "      <td>B</td>\n",
              "      <td>A</td>\n",
              "      <td>A</td>\n",
              "      <td>B</td>\n",
              "      <td>A</td>\n",
              "      <td>A</td>\n",
              "      <td>B</td>\n",
              "    </tr>\n",
              "    <tr>\n",
              "      <th>2</th>\n",
              "      <td>190001004722</td>\n",
              "      <td>2019</td>\n",
              "      <td>1501402</td>\n",
              "      <td>Belém</td>\n",
              "      <td>15</td>\n",
              "      <td>PA</td>\n",
              "      <td>35</td>\n",
              "      <td>F</td>\n",
              "      <td>2</td>\n",
              "      <td>1</td>\n",
              "      <td>1</td>\n",
              "      <td>1501402.0</td>\n",
              "      <td>Belém</td>\n",
              "      <td>15.0</td>\n",
              "      <td>PA</td>\n",
              "      <td>1</td>\n",
              "      <td>12</td>\n",
              "      <td>1</td>\n",
              "      <td>1.0</td>\n",
              "      <td>0</td>\n",
              "      <td>NaN</td>\n",
              "      <td>NaN</td>\n",
              "      <td>NaN</td>\n",
              "      <td>NaN</td>\n",
              "      <td>NaN</td>\n",
              "      <td>NaN</td>\n",
              "      <td>NaN</td>\n",
              "      <td>NaN</td>\n",
              "      <td>0</td>\n",
              "      <td>0</td>\n",
              "      <td>0</td>\n",
              "      <td>0</td>\n",
              "      <td>0</td>\n",
              "      <td>0</td>\n",
              "      <td>0</td>\n",
              "      <td>0</td>\n",
              "      <td>0</td>\n",
              "      <td>0</td>\n",
              "      <td>0</td>\n",
              "      <td>0</td>\n",
              "      <td>...</td>\n",
              "      <td>CDCAACCAAADEACBBEBAAEECDABDEBAEAABEDCABABAABC</td>\n",
              "      <td>99999ECBCECEBBABECCCECECCEECCDECEEEDADDDDECEDD...</td>\n",
              "      <td>DDBEADEBBCADCEEACABECBCEBADECADCEDAACBDABABCE</td>\n",
              "      <td>1</td>\n",
              "      <td>AAECACDEADCBCDDDBCBDADAEABCEBABEEBCBEECEBDADC</td>\n",
              "      <td>CBABADBBCEEEBCBADCBEEDBBEADBBACDBBACCCCADACAC</td>\n",
              "      <td>BBEDABDACACBABAECBBCCADCEBDBBCDDEEAAADDBECDECA...</td>\n",
              "      <td>EEEADBEBACABCDBABECECACDCBDCCEDCDABEDECDDDBAA</td>\n",
              "      <td>1.0</td>\n",
              "      <td>100.0</td>\n",
              "      <td>120.0</td>\n",
              "      <td>120.0</td>\n",
              "      <td>100.0</td>\n",
              "      <td>120.0</td>\n",
              "      <td>560.0</td>\n",
              "      <td>C</td>\n",
              "      <td>A</td>\n",
              "      <td>B</td>\n",
              "      <td>B</td>\n",
              "      <td>5</td>\n",
              "      <td>C</td>\n",
              "      <td>A</td>\n",
              "      <td>B</td>\n",
              "      <td>C</td>\n",
              "      <td>A</td>\n",
              "      <td>A</td>\n",
              "      <td>B</td>\n",
              "      <td>A</td>\n",
              "      <td>B</td>\n",
              "      <td>A</td>\n",
              "      <td>A</td>\n",
              "      <td>A</td>\n",
              "      <td>A</td>\n",
              "      <td>B</td>\n",
              "      <td>A</td>\n",
              "      <td>B</td>\n",
              "      <td>B</td>\n",
              "      <td>A</td>\n",
              "      <td>A</td>\n",
              "      <td>B</td>\n",
              "    </tr>\n",
              "    <tr>\n",
              "      <th>3</th>\n",
              "      <td>190001004735</td>\n",
              "      <td>2019</td>\n",
              "      <td>1507300</td>\n",
              "      <td>São Félix do Xingu</td>\n",
              "      <td>15</td>\n",
              "      <td>PA</td>\n",
              "      <td>23</td>\n",
              "      <td>F</td>\n",
              "      <td>1</td>\n",
              "      <td>3</td>\n",
              "      <td>1</td>\n",
              "      <td>1505437.0</td>\n",
              "      <td>Ourilândia do Norte</td>\n",
              "      <td>15.0</td>\n",
              "      <td>PA</td>\n",
              "      <td>1</td>\n",
              "      <td>7</td>\n",
              "      <td>1</td>\n",
              "      <td>NaN</td>\n",
              "      <td>0</td>\n",
              "      <td>NaN</td>\n",
              "      <td>NaN</td>\n",
              "      <td>NaN</td>\n",
              "      <td>NaN</td>\n",
              "      <td>NaN</td>\n",
              "      <td>NaN</td>\n",
              "      <td>NaN</td>\n",
              "      <td>NaN</td>\n",
              "      <td>0</td>\n",
              "      <td>0</td>\n",
              "      <td>0</td>\n",
              "      <td>0</td>\n",
              "      <td>0</td>\n",
              "      <td>0</td>\n",
              "      <td>0</td>\n",
              "      <td>0</td>\n",
              "      <td>0</td>\n",
              "      <td>0</td>\n",
              "      <td>0</td>\n",
              "      <td>0</td>\n",
              "      <td>...</td>\n",
              "      <td>EECCCEDBADBEAAAAEBAECEAAAAEEEBACCAC*CEAEDAECE</td>\n",
              "      <td>99999BABCDABBCBDDAAECADBDDADDCBCEEDCAEBCEAEABD...</td>\n",
              "      <td>CBDEBBCBDEBCABCDBDEDADCCBEDBCAECEBEBDEBAEECBC</td>\n",
              "      <td>1</td>\n",
              "      <td>BEEAAEBEEBADEADDADAEABCEDDDBCBCBCCACBCDADCCEB</td>\n",
              "      <td>EEBCEEDBADBBCBABCCADCEBACDBBACCACACBEADBBADCB</td>\n",
              "      <td>ADBBEDCABAABBCBCDAAECDDDBAAAECADECDCEBDEEAECBD...</td>\n",
              "      <td>BEDEEEAADBEBACABCDBABECECACADCBDCCEDCDABECDDD</td>\n",
              "      <td>1.0</td>\n",
              "      <td>100.0</td>\n",
              "      <td>120.0</td>\n",
              "      <td>120.0</td>\n",
              "      <td>120.0</td>\n",
              "      <td>40.0</td>\n",
              "      <td>500.0</td>\n",
              "      <td>E</td>\n",
              "      <td>C</td>\n",
              "      <td>A</td>\n",
              "      <td>A</td>\n",
              "      <td>1</td>\n",
              "      <td>B</td>\n",
              "      <td>A</td>\n",
              "      <td>B</td>\n",
              "      <td>C</td>\n",
              "      <td>A</td>\n",
              "      <td>A</td>\n",
              "      <td>B</td>\n",
              "      <td>A</td>\n",
              "      <td>A</td>\n",
              "      <td>A</td>\n",
              "      <td>A</td>\n",
              "      <td>A</td>\n",
              "      <td>A</td>\n",
              "      <td>B</td>\n",
              "      <td>A</td>\n",
              "      <td>A</td>\n",
              "      <td>B</td>\n",
              "      <td>A</td>\n",
              "      <td>A</td>\n",
              "      <td>B</td>\n",
              "    </tr>\n",
              "    <tr>\n",
              "      <th>4</th>\n",
              "      <td>190001004776</td>\n",
              "      <td>2019</td>\n",
              "      <td>1500800</td>\n",
              "      <td>Ananindeua</td>\n",
              "      <td>15</td>\n",
              "      <td>PA</td>\n",
              "      <td>16</td>\n",
              "      <td>F</td>\n",
              "      <td>1</td>\n",
              "      <td>3</td>\n",
              "      <td>1</td>\n",
              "      <td>1500800.0</td>\n",
              "      <td>Ananindeua</td>\n",
              "      <td>15.0</td>\n",
              "      <td>PA</td>\n",
              "      <td>3</td>\n",
              "      <td>0</td>\n",
              "      <td>1</td>\n",
              "      <td>NaN</td>\n",
              "      <td>1</td>\n",
              "      <td>NaN</td>\n",
              "      <td>NaN</td>\n",
              "      <td>NaN</td>\n",
              "      <td>NaN</td>\n",
              "      <td>NaN</td>\n",
              "      <td>NaN</td>\n",
              "      <td>NaN</td>\n",
              "      <td>NaN</td>\n",
              "      <td>0</td>\n",
              "      <td>0</td>\n",
              "      <td>0</td>\n",
              "      <td>0</td>\n",
              "      <td>0</td>\n",
              "      <td>0</td>\n",
              "      <td>0</td>\n",
              "      <td>0</td>\n",
              "      <td>0</td>\n",
              "      <td>0</td>\n",
              "      <td>0</td>\n",
              "      <td>0</td>\n",
              "      <td>...</td>\n",
              "      <td>CCBCBEACABACABBBBACCBCEBDCBABCADADCBCADBAADEA</td>\n",
              "      <td>EBCAB99999BBCECBCACBEACBDAABDBCBBDACEBBACDCAEC...</td>\n",
              "      <td>AECCBBCBBCBDEDECACBAABEDABBEDDADCEADDBEBDBBEB</td>\n",
              "      <td>0</td>\n",
              "      <td>DEADBAAAEBEECEBCBCBCBDADAEABCEDDDDADCBEECACBC</td>\n",
              "      <td>ACACEEBCCBABADBBBACDBBACCCCADCEBADCBEEDBBEADB</td>\n",
              "      <td>EBBADCABDABACBCEBDEEAAADDBECDECDDBADBCDAAECBCC...</td>\n",
              "      <td>AADDDBEEEBEDDBEBACABCDBABECECACAECDCBDCCEDCDA</td>\n",
              "      <td>1.0</td>\n",
              "      <td>160.0</td>\n",
              "      <td>140.0</td>\n",
              "      <td>160.0</td>\n",
              "      <td>160.0</td>\n",
              "      <td>160.0</td>\n",
              "      <td>780.0</td>\n",
              "      <td>E</td>\n",
              "      <td>E</td>\n",
              "      <td>B</td>\n",
              "      <td>D</td>\n",
              "      <td>3</td>\n",
              "      <td>E</td>\n",
              "      <td>A</td>\n",
              "      <td>B</td>\n",
              "      <td>C</td>\n",
              "      <td>B</td>\n",
              "      <td>A</td>\n",
              "      <td>B</td>\n",
              "      <td>A</td>\n",
              "      <td>A</td>\n",
              "      <td>A</td>\n",
              "      <td>A</td>\n",
              "      <td>A</td>\n",
              "      <td>A</td>\n",
              "      <td>B</td>\n",
              "      <td>A</td>\n",
              "      <td>A</td>\n",
              "      <td>D</td>\n",
              "      <td>A</td>\n",
              "      <td>A</td>\n",
              "      <td>B</td>\n",
              "    </tr>\n",
              "  </tbody>\n",
              "</table>\n",
              "<p>5 rows × 136 columns</p>\n",
              "</div>"
            ],
            "text/plain": [
              "   NU_INSCRICAO  NU_ANO  CO_MUNICIPIO_RESIDENCIA  ... Q023  Q024 Q025\n",
              "0  190001004661    2019                  1506138  ...    A     B    B\n",
              "1  190001004674    2019                  1504208  ...    A     A    B\n",
              "2  190001004722    2019                  1501402  ...    A     A    B\n",
              "3  190001004735    2019                  1507300  ...    A     A    B\n",
              "4  190001004776    2019                  1500800  ...    A     A    B\n",
              "\n",
              "[5 rows x 136 columns]"
            ]
          },
          "metadata": {
            "tags": []
          },
          "execution_count": 31
        }
      ]
    },
    {
      "cell_type": "markdown",
      "metadata": {
        "id": "u8SP4xAXU9Sd"
      },
      "source": [
        "formato da matriz"
      ]
    },
    {
      "cell_type": "code",
      "metadata": {
        "id": "C_Iyk-jqU_7F",
        "outputId": "ad5ac3e2-f5c3-4713-b275-9b3bc7ad5501",
        "colab": {
          "base_uri": "https://localhost:8080/",
          "height": 34
        }
      },
      "source": [
        "dados.shape"
      ],
      "execution_count": 2,
      "outputs": [
        {
          "output_type": "execute_result",
          "data": {
            "text/plain": [
              "(127380, 136)"
            ]
          },
          "metadata": {
            "tags": []
          },
          "execution_count": 2
        }
      ]
    },
    {
      "cell_type": "markdown",
      "metadata": {
        "id": "T-PDXEhYWLZV"
      },
      "source": [
        "selecionar uma coluna para printar"
      ]
    },
    {
      "cell_type": "code",
      "metadata": {
        "id": "3E5M6Sn3WPH2",
        "outputId": "faf8590e-e4c6-4389-86e4-9fdb991643c2",
        "colab": {
          "base_uri": "https://localhost:8080/",
          "height": 221
        }
      },
      "source": [
        "dados[\"SG_UF_RESIDENCIA\"]"
      ],
      "execution_count": 3,
      "outputs": [
        {
          "output_type": "execute_result",
          "data": {
            "text/plain": [
              "0         PA\n",
              "1         PA\n",
              "2         PA\n",
              "3         PA\n",
              "4         PA\n",
              "          ..\n",
              "127375    MG\n",
              "127376    BA\n",
              "127377    BA\n",
              "127378    BA\n",
              "127379    MG\n",
              "Name: SG_UF_RESIDENCIA, Length: 127380, dtype: object"
            ]
          },
          "metadata": {
            "tags": []
          },
          "execution_count": 3
        }
      ]
    },
    {
      "cell_type": "markdown",
      "metadata": {
        "id": "BpRb0YtTYdH3"
      },
      "source": [
        "Ver quais são as colunas"
      ]
    },
    {
      "cell_type": "code",
      "metadata": {
        "id": "Dnc3nHZYYg2q",
        "outputId": "29d1d840-b61f-4d8e-f880-5e1bc6ba1642",
        "colab": {
          "base_uri": "https://localhost:8080/",
          "height": 680
        }
      },
      "source": [
        "dados.columns.values"
      ],
      "execution_count": 4,
      "outputs": [
        {
          "output_type": "execute_result",
          "data": {
            "text/plain": [
              "array(['NU_INSCRICAO', 'NU_ANO', 'CO_MUNICIPIO_RESIDENCIA',\n",
              "       'NO_MUNICIPIO_RESIDENCIA', 'CO_UF_RESIDENCIA', 'SG_UF_RESIDENCIA',\n",
              "       'NU_IDADE', 'TP_SEXO', 'TP_ESTADO_CIVIL', 'TP_COR_RACA',\n",
              "       'TP_NACIONALIDADE', 'CO_MUNICIPIO_NASCIMENTO',\n",
              "       'NO_MUNICIPIO_NASCIMENTO', 'CO_UF_NASCIMENTO', 'SG_UF_NASCIMENTO',\n",
              "       'TP_ST_CONCLUSAO', 'TP_ANO_CONCLUIU', 'TP_ESCOLA', 'TP_ENSINO',\n",
              "       'IN_TREINEIRO', 'CO_ESCOLA', 'CO_MUNICIPIO_ESC',\n",
              "       'NO_MUNICIPIO_ESC', 'CO_UF_ESC', 'SG_UF_ESC',\n",
              "       'TP_DEPENDENCIA_ADM_ESC', 'TP_LOCALIZACAO_ESC', 'TP_SIT_FUNC_ESC',\n",
              "       'IN_BAIXA_VISAO', 'IN_CEGUEIRA', 'IN_SURDEZ',\n",
              "       'IN_DEFICIENCIA_AUDITIVA', 'IN_SURDO_CEGUEIRA',\n",
              "       'IN_DEFICIENCIA_FISICA', 'IN_DEFICIENCIA_MENTAL',\n",
              "       'IN_DEFICIT_ATENCAO', 'IN_DISLEXIA', 'IN_DISCALCULIA',\n",
              "       'IN_AUTISMO', 'IN_VISAO_MONOCULAR', 'IN_OUTRA_DEF', 'IN_GESTANTE',\n",
              "       'IN_LACTANTE', 'IN_IDOSO', 'IN_ESTUDA_CLASSE_HOSPITALAR',\n",
              "       'IN_SEM_RECURSO', 'IN_BRAILLE', 'IN_AMPLIADA_24', 'IN_AMPLIADA_18',\n",
              "       'IN_LEDOR', 'IN_ACESSO', 'IN_TRANSCRICAO', 'IN_LIBRAS',\n",
              "       'IN_TEMPO_ADICIONAL', 'IN_LEITURA_LABIAL', 'IN_MESA_CADEIRA_RODAS',\n",
              "       'IN_MESA_CADEIRA_SEPARADA', 'IN_APOIO_PERNA', 'IN_GUIA_INTERPRETE',\n",
              "       'IN_COMPUTADOR', 'IN_CADEIRA_ESPECIAL', 'IN_CADEIRA_CANHOTO',\n",
              "       'IN_CADEIRA_ACOLCHOADA', 'IN_PROVA_DEITADO', 'IN_MOBILIARIO_OBESO',\n",
              "       'IN_LAMINA_OVERLAY', 'IN_PROTETOR_AURICULAR', 'IN_MEDIDOR_GLICOSE',\n",
              "       'IN_MAQUINA_BRAILE', 'IN_SOROBAN', 'IN_MARCA_PASSO', 'IN_SONDA',\n",
              "       'IN_MEDICAMENTOS', 'IN_SALA_INDIVIDUAL', 'IN_SALA_ESPECIAL',\n",
              "       'IN_SALA_ACOMPANHANTE', 'IN_MOBILIARIO_ESPECIFICO',\n",
              "       'IN_MATERIAL_ESPECIFICO', 'IN_NOME_SOCIAL', 'CO_MUNICIPIO_PROVA',\n",
              "       'NO_MUNICIPIO_PROVA', 'CO_UF_PROVA', 'SG_UF_PROVA',\n",
              "       'TP_PRESENCA_CN', 'TP_PRESENCA_CH', 'TP_PRESENCA_LC',\n",
              "       'TP_PRESENCA_MT', 'CO_PROVA_CN', 'CO_PROVA_CH', 'CO_PROVA_LC',\n",
              "       'CO_PROVA_MT', 'NU_NOTA_CN', 'NU_NOTA_CH', 'NU_NOTA_LC',\n",
              "       'NU_NOTA_MT', 'TX_RESPOSTAS_CN', 'TX_RESPOSTAS_CH',\n",
              "       'TX_RESPOSTAS_LC', 'TX_RESPOSTAS_MT', 'TP_LINGUA',\n",
              "       'TX_GABARITO_CN', 'TX_GABARITO_CH', 'TX_GABARITO_LC',\n",
              "       'TX_GABARITO_MT', 'TP_STATUS_REDACAO', 'NU_NOTA_COMP1',\n",
              "       'NU_NOTA_COMP2', 'NU_NOTA_COMP3', 'NU_NOTA_COMP4', 'NU_NOTA_COMP5',\n",
              "       'NU_NOTA_REDACAO', 'Q001', 'Q002', 'Q003', 'Q004', 'Q005', 'Q006',\n",
              "       'Q007', 'Q008', 'Q009', 'Q010', 'Q011', 'Q012', 'Q013', 'Q014',\n",
              "       'Q015', 'Q016', 'Q017', 'Q018', 'Q019', 'Q020', 'Q021', 'Q022',\n",
              "       'Q023', 'Q024', 'Q025'], dtype=object)"
            ]
          },
          "metadata": {
            "tags": []
          },
          "execution_count": 4
        }
      ]
    },
    {
      "cell_type": "markdown",
      "metadata": {
        "id": "zPBL2R0eZqUo"
      },
      "source": [
        "mostrar mais de uma coluna\n",
        "*colocar dentro de uma lista*"
      ]
    },
    {
      "cell_type": "code",
      "metadata": {
        "id": "riWRN3QwZxyN",
        "outputId": "89884943-1cf3-4e73-e875-6aa96ffa3e2e",
        "colab": {
          "base_uri": "https://localhost:8080/",
          "height": 419
        }
      },
      "source": [
        "dados[[\"SG_UF_RESIDENCIA\", \"Q025\"]]"
      ],
      "execution_count": 5,
      "outputs": [
        {
          "output_type": "execute_result",
          "data": {
            "text/html": [
              "<div>\n",
              "<style scoped>\n",
              "    .dataframe tbody tr th:only-of-type {\n",
              "        vertical-align: middle;\n",
              "    }\n",
              "\n",
              "    .dataframe tbody tr th {\n",
              "        vertical-align: top;\n",
              "    }\n",
              "\n",
              "    .dataframe thead th {\n",
              "        text-align: right;\n",
              "    }\n",
              "</style>\n",
              "<table border=\"1\" class=\"dataframe\">\n",
              "  <thead>\n",
              "    <tr style=\"text-align: right;\">\n",
              "      <th></th>\n",
              "      <th>SG_UF_RESIDENCIA</th>\n",
              "      <th>Q025</th>\n",
              "    </tr>\n",
              "  </thead>\n",
              "  <tbody>\n",
              "    <tr>\n",
              "      <th>0</th>\n",
              "      <td>PA</td>\n",
              "      <td>B</td>\n",
              "    </tr>\n",
              "    <tr>\n",
              "      <th>1</th>\n",
              "      <td>PA</td>\n",
              "      <td>B</td>\n",
              "    </tr>\n",
              "    <tr>\n",
              "      <th>2</th>\n",
              "      <td>PA</td>\n",
              "      <td>B</td>\n",
              "    </tr>\n",
              "    <tr>\n",
              "      <th>3</th>\n",
              "      <td>PA</td>\n",
              "      <td>B</td>\n",
              "    </tr>\n",
              "    <tr>\n",
              "      <th>4</th>\n",
              "      <td>PA</td>\n",
              "      <td>B</td>\n",
              "    </tr>\n",
              "    <tr>\n",
              "      <th>...</th>\n",
              "      <td>...</td>\n",
              "      <td>...</td>\n",
              "    </tr>\n",
              "    <tr>\n",
              "      <th>127375</th>\n",
              "      <td>MG</td>\n",
              "      <td>B</td>\n",
              "    </tr>\n",
              "    <tr>\n",
              "      <th>127376</th>\n",
              "      <td>BA</td>\n",
              "      <td>B</td>\n",
              "    </tr>\n",
              "    <tr>\n",
              "      <th>127377</th>\n",
              "      <td>BA</td>\n",
              "      <td>B</td>\n",
              "    </tr>\n",
              "    <tr>\n",
              "      <th>127378</th>\n",
              "      <td>BA</td>\n",
              "      <td>A</td>\n",
              "    </tr>\n",
              "    <tr>\n",
              "      <th>127379</th>\n",
              "      <td>MG</td>\n",
              "      <td>B</td>\n",
              "    </tr>\n",
              "  </tbody>\n",
              "</table>\n",
              "<p>127380 rows × 2 columns</p>\n",
              "</div>"
            ],
            "text/plain": [
              "       SG_UF_RESIDENCIA Q025\n",
              "0                    PA    B\n",
              "1                    PA    B\n",
              "2                    PA    B\n",
              "3                    PA    B\n",
              "4                    PA    B\n",
              "...                 ...  ...\n",
              "127375               MG    B\n",
              "127376               BA    B\n",
              "127377               BA    B\n",
              "127378               BA    A\n",
              "127379               MG    B\n",
              "\n",
              "[127380 rows x 2 columns]"
            ]
          },
          "metadata": {
            "tags": []
          },
          "execution_count": 5
        }
      ]
    },
    {
      "cell_type": "markdown",
      "metadata": {
        "id": "7ozsXZetauaQ"
      },
      "source": [
        "Quais estados estão presetes nesta amostra?"
      ]
    },
    {
      "cell_type": "code",
      "metadata": {
        "id": "toiocEGzazG3",
        "outputId": "98d81f0a-9245-474b-9dfe-33af232ee127",
        "colab": {
          "base_uri": "https://localhost:8080/",
          "height": 68
        }
      },
      "source": [
        "dados[\"SG_UF_RESIDENCIA\"].unique()\n"
      ],
      "execution_count": 9,
      "outputs": [
        {
          "output_type": "execute_result",
          "data": {
            "text/plain": [
              "array(['PA', 'RO', 'MT', 'AC', 'AM', 'RR', 'MA', 'PR', 'BA', 'PI', 'CE',\n",
              "       'PE', 'AP', 'TO', 'SC', 'GO', 'MG', 'SP', 'SE', 'RJ', 'PB', 'AL',\n",
              "       'RN', 'ES', 'DF', 'RS', 'MS'], dtype=object)"
            ]
          },
          "metadata": {
            "tags": []
          },
          "execution_count": 9
        }
      ]
    },
    {
      "cell_type": "markdown",
      "metadata": {
        "id": "AUzxGihhbNBz"
      },
      "source": [
        "Quantos São ?"
      ]
    },
    {
      "cell_type": "code",
      "metadata": {
        "id": "IBzATUbnbH25",
        "outputId": "4d78a462-b90f-4a99-96d5-d33bd2e0bd79",
        "colab": {
          "base_uri": "https://localhost:8080/",
          "height": 34
        }
      },
      "source": [
        "len(dados[\"SG_UF_RESIDENCIA\"].unique())\n"
      ],
      "execution_count": 10,
      "outputs": [
        {
          "output_type": "execute_result",
          "data": {
            "text/plain": [
              "27"
            ]
          },
          "metadata": {
            "tags": []
          },
          "execution_count": 10
        }
      ]
    },
    {
      "cell_type": "markdown",
      "metadata": {
        "id": "FmhoLKj-biuX"
      },
      "source": [
        "Quantos elementos de cada estado estão na amostra?"
      ]
    },
    {
      "cell_type": "code",
      "metadata": {
        "id": "1euMIN7FbmM_",
        "outputId": "c8a254c8-440d-40e1-909b-acc864358669",
        "colab": {
          "base_uri": "https://localhost:8080/",
          "height": 493
        }
      },
      "source": [
        "dados[\"SG_UF_RESIDENCIA\"].value_counts()"
      ],
      "execution_count": 11,
      "outputs": [
        {
          "output_type": "execute_result",
          "data": {
            "text/plain": [
              "SP    20264\n",
              "MG    13547\n",
              "BA    10040\n",
              "RJ     8467\n",
              "CE     7381\n",
              "PA     7170\n",
              "PE     6941\n",
              "MA     5543\n",
              "RS     5466\n",
              "PR     5259\n",
              "GO     4268\n",
              "PB     3690\n",
              "PI     3034\n",
              "RN     2959\n",
              "AM     2820\n",
              "SC     2673\n",
              "ES     2550\n",
              "DF     2408\n",
              "AL     2263\n",
              "MT     2230\n",
              "SE     1815\n",
              "MS     1655\n",
              "RO     1400\n",
              "TO     1178\n",
              "AP     1047\n",
              "AC      946\n",
              "RR      366\n",
              "Name: SG_UF_RESIDENCIA, dtype: int64"
            ]
          },
          "metadata": {
            "tags": []
          },
          "execution_count": 11
        }
      ]
    },
    {
      "cell_type": "markdown",
      "metadata": {
        "id": "7KD95nNOdZeg"
      },
      "source": [
        "Quantos Participantes de cada idade ?"
      ]
    },
    {
      "cell_type": "code",
      "metadata": {
        "id": "ACXZTIMwddBG",
        "outputId": "fe03fb78-534e-4548-c61b-eb85b521fda4",
        "colab": {
          "base_uri": "https://localhost:8080/",
          "height": 221
        }
      },
      "source": [
        "dados[\"NU_IDADE\"].value_counts()"
      ],
      "execution_count": 12,
      "outputs": [
        {
          "output_type": "execute_result",
          "data": {
            "text/plain": [
              "18    21452\n",
              "17    21256\n",
              "19    14418\n",
              "20    10413\n",
              "16     7830\n",
              "      ...  \n",
              "75        2\n",
              "73        2\n",
              "82        1\n",
              "77        1\n",
              "76        1\n",
              "Name: NU_IDADE, Length: 65, dtype: int64"
            ]
          },
          "metadata": {
            "tags": []
          },
          "execution_count": 12
        }
      ]
    },
    {
      "cell_type": "markdown",
      "metadata": {
        "id": "RIYf_vzzd4qU"
      },
      "source": [
        "ordenar as pessoas por idade"
      ]
    },
    {
      "cell_type": "code",
      "metadata": {
        "id": "qNHWbS5Wd7IZ",
        "outputId": "308a59ef-38bb-4471-8a89-a99eb819aab0",
        "colab": {
          "base_uri": "https://localhost:8080/",
          "height": 221
        }
      },
      "source": [
        "dados[\"NU_IDADE\"].value_counts().sort_index()"
      ],
      "execution_count": 13,
      "outputs": [
        {
          "output_type": "execute_result",
          "data": {
            "text/plain": [
              "13        4\n",
              "14      141\n",
              "15     2009\n",
              "16     7830\n",
              "17    21256\n",
              "      ...  \n",
              "73        2\n",
              "75        2\n",
              "76        1\n",
              "77        1\n",
              "82        1\n",
              "Name: NU_IDADE, Length: 65, dtype: int64"
            ]
          },
          "metadata": {
            "tags": []
          },
          "execution_count": 13
        }
      ]
    },
    {
      "cell_type": "markdown",
      "metadata": {
        "id": "ExJy01ARfrBE"
      },
      "source": [
        "DESAFIO 01: Proporção dos inscritos por idade "
      ]
    },
    {
      "cell_type": "code",
      "metadata": {
        "id": "EZ3jyenufwPe"
      },
      "source": [
        ""
      ],
      "execution_count": null,
      "outputs": []
    },
    {
      "cell_type": "markdown",
      "metadata": {
        "id": "-6uykF_QgYEM"
      },
      "source": [
        "DESAFIO 02: De Quais Estados são os Inscritos de 13 Anos ?"
      ]
    },
    {
      "cell_type": "code",
      "metadata": {
        "id": "n5S5O-vxgfdR",
        "outputId": "9dd70679-f3e0-46cb-9bd8-b493379e4eca",
        "colab": {
          "base_uri": "https://localhost:8080/",
          "height": 238
        }
      },
      "source": [
        "dados[[\"NU_IDADE\",\"SG_UF_RESIDENCIA\"]].value_counts().sort_index()"
      ],
      "execution_count": 18,
      "outputs": [
        {
          "output_type": "execute_result",
          "data": {
            "text/plain": [
              "NU_IDADE  SG_UF_RESIDENCIA\n",
              "13        AP                  1\n",
              "          BA                  1\n",
              "          MT                  1\n",
              "          SP                  1\n",
              "14        AC                  1\n",
              "                             ..\n",
              "73        SP                  1\n",
              "75        BA                  2\n",
              "76        BA                  1\n",
              "77        RJ                  1\n",
              "82        RJ                  1\n",
              "Length: 1333, dtype: int64"
            ]
          },
          "metadata": {
            "tags": []
          },
          "execution_count": 18
        }
      ]
    },
    {
      "cell_type": "markdown",
      "metadata": {
        "id": "sjjfccFyiDEb"
      },
      "source": [
        "Resposta: Amapá, Bahia, Mato Grosso, São Paulo."
      ]
    },
    {
      "cell_type": "markdown",
      "metadata": {
        "id": "xifYl_4AgyEu"
      },
      "source": [
        "Histograma de Idades"
      ]
    },
    {
      "cell_type": "code",
      "metadata": {
        "id": "JGGpLu6rg5Wu",
        "outputId": "4afe5e62-e73a-458c-fb78-4afbc43baeed",
        "colab": {
          "base_uri": "https://localhost:8080/",
          "height": 285
        }
      },
      "source": [
        "dados[\"NU_IDADE\"].hist()"
      ],
      "execution_count": 15,
      "outputs": [
        {
          "output_type": "execute_result",
          "data": {
            "text/plain": [
              "<matplotlib.axes._subplots.AxesSubplot at 0x7f8d338ae1d0>"
            ]
          },
          "metadata": {
            "tags": []
          },
          "execution_count": 15
        },
        {
          "output_type": "display_data",
          "data": {
            "image/png": "[encoded data removed]",
            "text/plain": [
              "<Figure size 432x288 with 1 Axes>"
            ]
          },
          "metadata": {
            "tags": [],
            "needs_background": "light"
          }
        }
      ]
    },
    {
      "cell_type": "markdown",
      "metadata": {
        "id": "cmUuAQ5KjXd_"
      },
      "source": [
        "Aumentar a amplitude do histograma"
      ]
    },
    {
      "cell_type": "code",
      "metadata": {
        "id": "SKvN8-6BjeRI",
        "outputId": "8dc6afc7-4575-4006-b837-3a84fb48918a",
        "colab": {
          "base_uri": "https://localhost:8080/",
          "height": 282
        }
      },
      "source": [
        "dados[\"NU_IDADE\"].hist(bins = 20)"
      ],
      "execution_count": 19,
      "outputs": [
        {
          "output_type": "execute_result",
          "data": {
            "text/plain": [
              "<matplotlib.axes._subplots.AxesSubplot at 0x7f8d2b6fce80>"
            ]
          },
          "metadata": {
            "tags": []
          },
          "execution_count": 19
        },
        {
          "output_type": "display_data",
          "data": {
            "image/png": "[encoded data removed]",
            "text/plain": [
              "<Figure size 432x288 with 1 Axes>"
            ]
          },
          "metadata": {
            "tags": [],
            "needs_background": "light"
          }
        }
      ]
    },
    {
      "cell_type": "markdown",
      "metadata": {
        "id": "7ITm9RBrkxE8"
      },
      "source": [
        "Setar o tamanho da imagem"
      ]
    },
    {
      "cell_type": "code",
      "metadata": {
        "id": "nTr6G2q2kzP-",
        "outputId": "60910d04-0503-4177-dc33-7f5b1fa1b8dd",
        "colab": {
          "base_uri": "https://localhost:8080/",
          "height": 500
        }
      },
      "source": [
        "dados[\"NU_IDADE\"].hist(bins = 20, figsize = (10,8))"
      ],
      "execution_count": 20,
      "outputs": [
        {
          "output_type": "execute_result",
          "data": {
            "text/plain": [
              "<matplotlib.axes._subplots.AxesSubplot at 0x7f8d2b633160>"
            ]
          },
          "metadata": {
            "tags": []
          },
          "execution_count": 20
        },
        {
          "output_type": "display_data",
          "data": {
            "image/png": "[encoded data removed]",
            "text/plain": [
              "<Figure size 720x576 with 1 Axes>"
            ]
          },
          "metadata": {
            "tags": [],
            "needs_background": "light"
          }
        }
      ]
    },
    {
      "cell_type": "markdown",
      "metadata": {
        "id": "Dv0Mcqg-lE4I"
      },
      "source": [
        "DESAFIO 03: Colocar titulo no histograma"
      ]
    },
    {
      "cell_type": "code",
      "metadata": {
        "id": "_D5jjg8HlNyo",
        "outputId": "e827b05a-a039-41df-db8f-8c6b9a0a5dc0",
        "colab": {
          "base_uri": "https://localhost:8080/",
          "height": 516
        }
      },
      "source": [
        "dados[\"NU_IDADE\"].hist(bins = 20, figsize = (10,8))\n",
        "plt.title(\"Numero de Pessoas Por Idade\")"
      ],
      "execution_count": 34,
      "outputs": [
        {
          "output_type": "execute_result",
          "data": {
            "text/plain": [
              "Text(0.5, 1.0, 'Numero de Pessoas Por Idade')"
            ]
          },
          "metadata": {
            "tags": []
          },
          "execution_count": 34
        },
        {
          "output_type": "display_data",
          "data": {
            "image/png": "[encoded data removed]",
            "text/plain": [
              "<Figure size 720x576 with 1 Axes>"
            ]
          },
          "metadata": {
            "tags": [],
            "needs_background": "light"
          }
        }
      ]
    },
    {
      "cell_type": "markdown",
      "metadata": {
        "id": "P_wR0gfpnT6V"
      },
      "source": [
        "Mostrar Apenas os Treineiros"
      ]
    },
    {
      "cell_type": "code",
      "metadata": {
        "id": "clVo8YaWnXkw",
        "outputId": "1f61469c-4e90-4c25-cb7c-0d13bd6b0815",
        "colab": {
          "base_uri": "https://localhost:8080/",
          "height": 439
        }
      },
      "source": [
        "dados.query(\"IN_TREINEIRO == 1\")"
      ],
      "execution_count": 29,
      "outputs": [
        {
          "output_type": "execute_result",
          "data": {
            "text/html": [
              "<div>\n",
              "<style scoped>\n",
              "    .dataframe tbody tr th:only-of-type {\n",
              "        vertical-align: middle;\n",
              "    }\n",
              "\n",
              "    .dataframe tbody tr th {\n",
              "        vertical-align: top;\n",
              "    }\n",
              "\n",
              "    .dataframe thead th {\n",
              "        text-align: right;\n",
              "    }\n",
              "</style>\n",
              "<table border=\"1\" class=\"dataframe\">\n",
              "  <thead>\n",
              "    <tr style=\"text-align: right;\">\n",
              "      <th></th>\n",
              "      <th>NU_INSCRICAO</th>\n",
              "      <th>NU_ANO</th>\n",
              "      <th>CO_MUNICIPIO_RESIDENCIA</th>\n",
              "      <th>NO_MUNICIPIO_RESIDENCIA</th>\n",
              "      <th>CO_UF_RESIDENCIA</th>\n",
              "      <th>SG_UF_RESIDENCIA</th>\n",
              "      <th>NU_IDADE</th>\n",
              "      <th>TP_SEXO</th>\n",
              "      <th>TP_ESTADO_CIVIL</th>\n",
              "      <th>TP_COR_RACA</th>\n",
              "      <th>TP_NACIONALIDADE</th>\n",
              "      <th>CO_MUNICIPIO_NASCIMENTO</th>\n",
              "      <th>NO_MUNICIPIO_NASCIMENTO</th>\n",
              "      <th>CO_UF_NASCIMENTO</th>\n",
              "      <th>SG_UF_NASCIMENTO</th>\n",
              "      <th>TP_ST_CONCLUSAO</th>\n",
              "      <th>TP_ANO_CONCLUIU</th>\n",
              "      <th>TP_ESCOLA</th>\n",
              "      <th>TP_ENSINO</th>\n",
              "      <th>IN_TREINEIRO</th>\n",
              "      <th>CO_ESCOLA</th>\n",
              "      <th>CO_MUNICIPIO_ESC</th>\n",
              "      <th>NO_MUNICIPIO_ESC</th>\n",
              "      <th>CO_UF_ESC</th>\n",
              "      <th>SG_UF_ESC</th>\n",
              "      <th>TP_DEPENDENCIA_ADM_ESC</th>\n",
              "      <th>TP_LOCALIZACAO_ESC</th>\n",
              "      <th>TP_SIT_FUNC_ESC</th>\n",
              "      <th>IN_BAIXA_VISAO</th>\n",
              "      <th>IN_CEGUEIRA</th>\n",
              "      <th>IN_SURDEZ</th>\n",
              "      <th>IN_DEFICIENCIA_AUDITIVA</th>\n",
              "      <th>IN_SURDO_CEGUEIRA</th>\n",
              "      <th>IN_DEFICIENCIA_FISICA</th>\n",
              "      <th>IN_DEFICIENCIA_MENTAL</th>\n",
              "      <th>IN_DEFICIT_ATENCAO</th>\n",
              "      <th>IN_DISLEXIA</th>\n",
              "      <th>IN_DISCALCULIA</th>\n",
              "      <th>IN_AUTISMO</th>\n",
              "      <th>IN_VISAO_MONOCULAR</th>\n",
              "      <th>...</th>\n",
              "      <th>TX_RESPOSTAS_CH</th>\n",
              "      <th>TX_RESPOSTAS_LC</th>\n",
              "      <th>TX_RESPOSTAS_MT</th>\n",
              "      <th>TP_LINGUA</th>\n",
              "      <th>TX_GABARITO_CN</th>\n",
              "      <th>TX_GABARITO_CH</th>\n",
              "      <th>TX_GABARITO_LC</th>\n",
              "      <th>TX_GABARITO_MT</th>\n",
              "      <th>TP_STATUS_REDACAO</th>\n",
              "      <th>NU_NOTA_COMP1</th>\n",
              "      <th>NU_NOTA_COMP2</th>\n",
              "      <th>NU_NOTA_COMP3</th>\n",
              "      <th>NU_NOTA_COMP4</th>\n",
              "      <th>NU_NOTA_COMP5</th>\n",
              "      <th>NU_NOTA_REDACAO</th>\n",
              "      <th>Q001</th>\n",
              "      <th>Q002</th>\n",
              "      <th>Q003</th>\n",
              "      <th>Q004</th>\n",
              "      <th>Q005</th>\n",
              "      <th>Q006</th>\n",
              "      <th>Q007</th>\n",
              "      <th>Q008</th>\n",
              "      <th>Q009</th>\n",
              "      <th>Q010</th>\n",
              "      <th>Q011</th>\n",
              "      <th>Q012</th>\n",
              "      <th>Q013</th>\n",
              "      <th>Q014</th>\n",
              "      <th>Q015</th>\n",
              "      <th>Q016</th>\n",
              "      <th>Q017</th>\n",
              "      <th>Q018</th>\n",
              "      <th>Q019</th>\n",
              "      <th>Q020</th>\n",
              "      <th>Q021</th>\n",
              "      <th>Q022</th>\n",
              "      <th>Q023</th>\n",
              "      <th>Q024</th>\n",
              "      <th>Q025</th>\n",
              "    </tr>\n",
              "  </thead>\n",
              "  <tbody>\n",
              "    <tr>\n",
              "      <th>0</th>\n",
              "      <td>190001004661</td>\n",
              "      <td>2019</td>\n",
              "      <td>1506138</td>\n",
              "      <td>Redenção</td>\n",
              "      <td>15</td>\n",
              "      <td>PA</td>\n",
              "      <td>17</td>\n",
              "      <td>M</td>\n",
              "      <td>1</td>\n",
              "      <td>3</td>\n",
              "      <td>1</td>\n",
              "      <td>1506138.0</td>\n",
              "      <td>Redenção</td>\n",
              "      <td>15.0</td>\n",
              "      <td>PA</td>\n",
              "      <td>3</td>\n",
              "      <td>0</td>\n",
              "      <td>1</td>\n",
              "      <td>NaN</td>\n",
              "      <td>1</td>\n",
              "      <td>NaN</td>\n",
              "      <td>NaN</td>\n",
              "      <td>NaN</td>\n",
              "      <td>NaN</td>\n",
              "      <td>NaN</td>\n",
              "      <td>NaN</td>\n",
              "      <td>NaN</td>\n",
              "      <td>NaN</td>\n",
              "      <td>0</td>\n",
              "      <td>0</td>\n",
              "      <td>0</td>\n",
              "      <td>0</td>\n",
              "      <td>0</td>\n",
              "      <td>0</td>\n",
              "      <td>0</td>\n",
              "      <td>0</td>\n",
              "      <td>0</td>\n",
              "      <td>0</td>\n",
              "      <td>0</td>\n",
              "      <td>0</td>\n",
              "      <td>...</td>\n",
              "      <td>ACAEAAACABEBABAADCEEEDE*CBDCCCADADCCCBEBBBBDB</td>\n",
              "      <td>99999CCCABBCAADDBCEBCCADBEEBDECBAABDEACACAEABB...</td>\n",
              "      <td>DEEDCAECDDEEECBCBECABEBAECBBCDAECAEBBBBBDCCDB</td>\n",
              "      <td>1</td>\n",
              "      <td>DEADBAAAEBEECEBCBCBCBDADAEABCEDDDDADCBEECACBC</td>\n",
              "      <td>ACACEEBCCBABADBBBACDBBACCCCADCEBADCBEEDBBEADB</td>\n",
              "      <td>EBBADCABDABACBCEBDEEAAADDBECDECDDBADBCDAAECBCC...</td>\n",
              "      <td>AADDDBEEEBEDDBEBACABCDBABECECACAECDCBDCCEDCDA</td>\n",
              "      <td>1.0</td>\n",
              "      <td>60.0</td>\n",
              "      <td>100.0</td>\n",
              "      <td>80.0</td>\n",
              "      <td>80.0</td>\n",
              "      <td>100.0</td>\n",
              "      <td>420.0</td>\n",
              "      <td>B</td>\n",
              "      <td>B</td>\n",
              "      <td>A</td>\n",
              "      <td>A</td>\n",
              "      <td>4</td>\n",
              "      <td>B</td>\n",
              "      <td>A</td>\n",
              "      <td>C</td>\n",
              "      <td>B</td>\n",
              "      <td>A</td>\n",
              "      <td>C</td>\n",
              "      <td>B</td>\n",
              "      <td>A</td>\n",
              "      <td>A</td>\n",
              "      <td>A</td>\n",
              "      <td>A</td>\n",
              "      <td>A</td>\n",
              "      <td>A</td>\n",
              "      <td>A</td>\n",
              "      <td>B</td>\n",
              "      <td>A</td>\n",
              "      <td>C</td>\n",
              "      <td>A</td>\n",
              "      <td>B</td>\n",
              "      <td>B</td>\n",
              "    </tr>\n",
              "    <tr>\n",
              "      <th>4</th>\n",
              "      <td>190001004776</td>\n",
              "      <td>2019</td>\n",
              "      <td>1500800</td>\n",
              "      <td>Ananindeua</td>\n",
              "      <td>15</td>\n",
              "      <td>PA</td>\n",
              "      <td>16</td>\n",
              "      <td>F</td>\n",
              "      <td>1</td>\n",
              "      <td>3</td>\n",
              "      <td>1</td>\n",
              "      <td>1500800.0</td>\n",
              "      <td>Ananindeua</td>\n",
              "      <td>15.0</td>\n",
              "      <td>PA</td>\n",
              "      <td>3</td>\n",
              "      <td>0</td>\n",
              "      <td>1</td>\n",
              "      <td>NaN</td>\n",
              "      <td>1</td>\n",
              "      <td>NaN</td>\n",
              "      <td>NaN</td>\n",
              "      <td>NaN</td>\n",
              "      <td>NaN</td>\n",
              "      <td>NaN</td>\n",
              "      <td>NaN</td>\n",
              "      <td>NaN</td>\n",
              "      <td>NaN</td>\n",
              "      <td>0</td>\n",
              "      <td>0</td>\n",
              "      <td>0</td>\n",
              "      <td>0</td>\n",
              "      <td>0</td>\n",
              "      <td>0</td>\n",
              "      <td>0</td>\n",
              "      <td>0</td>\n",
              "      <td>0</td>\n",
              "      <td>0</td>\n",
              "      <td>0</td>\n",
              "      <td>0</td>\n",
              "      <td>...</td>\n",
              "      <td>CCBCBEACABACABBBBACCBCEBDCBABCADADCBCADBAADEA</td>\n",
              "      <td>EBCAB99999BBCECBCACBEACBDAABDBCBBDACEBBACDCAEC...</td>\n",
              "      <td>AECCBBCBBCBDEDECACBAABEDABBEDDADCEADDBEBDBBEB</td>\n",
              "      <td>0</td>\n",
              "      <td>DEADBAAAEBEECEBCBCBCBDADAEABCEDDDDADCBEECACBC</td>\n",
              "      <td>ACACEEBCCBABADBBBACDBBACCCCADCEBADCBEEDBBEADB</td>\n",
              "      <td>EBBADCABDABACBCEBDEEAAADDBECDECDDBADBCDAAECBCC...</td>\n",
              "      <td>AADDDBEEEBEDDBEBACABCDBABECECACAECDCBDCCEDCDA</td>\n",
              "      <td>1.0</td>\n",
              "      <td>160.0</td>\n",
              "      <td>140.0</td>\n",
              "      <td>160.0</td>\n",
              "      <td>160.0</td>\n",
              "      <td>160.0</td>\n",
              "      <td>780.0</td>\n",
              "      <td>E</td>\n",
              "      <td>E</td>\n",
              "      <td>B</td>\n",
              "      <td>D</td>\n",
              "      <td>3</td>\n",
              "      <td>E</td>\n",
              "      <td>A</td>\n",
              "      <td>B</td>\n",
              "      <td>C</td>\n",
              "      <td>B</td>\n",
              "      <td>A</td>\n",
              "      <td>B</td>\n",
              "      <td>A</td>\n",
              "      <td>A</td>\n",
              "      <td>A</td>\n",
              "      <td>A</td>\n",
              "      <td>A</td>\n",
              "      <td>A</td>\n",
              "      <td>B</td>\n",
              "      <td>A</td>\n",
              "      <td>A</td>\n",
              "      <td>D</td>\n",
              "      <td>A</td>\n",
              "      <td>A</td>\n",
              "      <td>B</td>\n",
              "    </tr>\n",
              "    <tr>\n",
              "      <th>12</th>\n",
              "      <td>190001005076</td>\n",
              "      <td>2019</td>\n",
              "      <td>1506138</td>\n",
              "      <td>Redenção</td>\n",
              "      <td>15</td>\n",
              "      <td>PA</td>\n",
              "      <td>15</td>\n",
              "      <td>M</td>\n",
              "      <td>1</td>\n",
              "      <td>3</td>\n",
              "      <td>1</td>\n",
              "      <td>1506138.0</td>\n",
              "      <td>Redenção</td>\n",
              "      <td>15.0</td>\n",
              "      <td>PA</td>\n",
              "      <td>3</td>\n",
              "      <td>0</td>\n",
              "      <td>1</td>\n",
              "      <td>NaN</td>\n",
              "      <td>1</td>\n",
              "      <td>NaN</td>\n",
              "      <td>NaN</td>\n",
              "      <td>NaN</td>\n",
              "      <td>NaN</td>\n",
              "      <td>NaN</td>\n",
              "      <td>NaN</td>\n",
              "      <td>NaN</td>\n",
              "      <td>NaN</td>\n",
              "      <td>0</td>\n",
              "      <td>0</td>\n",
              "      <td>0</td>\n",
              "      <td>0</td>\n",
              "      <td>0</td>\n",
              "      <td>0</td>\n",
              "      <td>0</td>\n",
              "      <td>0</td>\n",
              "      <td>0</td>\n",
              "      <td>0</td>\n",
              "      <td>0</td>\n",
              "      <td>0</td>\n",
              "      <td>...</td>\n",
              "      <td>AADCCEDCCDBEABAECBABCEEACDEBDBBDBACBBEEDCADCB</td>\n",
              "      <td>AECBA99999ACDBECAACEAADBEAAAECDAECDEBAAEBCECEA...</td>\n",
              "      <td>DAADCAABECBBCBDADDEEEBCCAABADBBBECAACBDBDDCBC</td>\n",
              "      <td>0</td>\n",
              "      <td>BEEAAEBEEBADEADDADAEABCEDDDBCBCBCCACBCDADCCEB</td>\n",
              "      <td>EEBCEEDBADBBCBABCCADCEBACDBBACCACACBEADBBADCB</td>\n",
              "      <td>ADBBEDCABAABBCBCDAAECDDDBAAAECADECDCEBDEEAECBD...</td>\n",
              "      <td>BEDEEEAADBEBACABCDBABECECACADCBDCCEDCDABECDDD</td>\n",
              "      <td>1.0</td>\n",
              "      <td>120.0</td>\n",
              "      <td>180.0</td>\n",
              "      <td>120.0</td>\n",
              "      <td>140.0</td>\n",
              "      <td>160.0</td>\n",
              "      <td>720.0</td>\n",
              "      <td>C</td>\n",
              "      <td>E</td>\n",
              "      <td>D</td>\n",
              "      <td>D</td>\n",
              "      <td>4</td>\n",
              "      <td>F</td>\n",
              "      <td>A</td>\n",
              "      <td>C</td>\n",
              "      <td>C</td>\n",
              "      <td>B</td>\n",
              "      <td>B</td>\n",
              "      <td>B</td>\n",
              "      <td>B</td>\n",
              "      <td>A</td>\n",
              "      <td>A</td>\n",
              "      <td>B</td>\n",
              "      <td>A</td>\n",
              "      <td>A</td>\n",
              "      <td>B</td>\n",
              "      <td>B</td>\n",
              "      <td>A</td>\n",
              "      <td>C</td>\n",
              "      <td>A</td>\n",
              "      <td>A</td>\n",
              "      <td>B</td>\n",
              "    </tr>\n",
              "    <tr>\n",
              "      <th>14</th>\n",
              "      <td>190001005081</td>\n",
              "      <td>2019</td>\n",
              "      <td>1506807</td>\n",
              "      <td>Santarém</td>\n",
              "      <td>15</td>\n",
              "      <td>PA</td>\n",
              "      <td>17</td>\n",
              "      <td>F</td>\n",
              "      <td>1</td>\n",
              "      <td>3</td>\n",
              "      <td>2</td>\n",
              "      <td>NaN</td>\n",
              "      <td>NaN</td>\n",
              "      <td>NaN</td>\n",
              "      <td>NaN</td>\n",
              "      <td>3</td>\n",
              "      <td>0</td>\n",
              "      <td>1</td>\n",
              "      <td>NaN</td>\n",
              "      <td>1</td>\n",
              "      <td>NaN</td>\n",
              "      <td>NaN</td>\n",
              "      <td>NaN</td>\n",
              "      <td>NaN</td>\n",
              "      <td>NaN</td>\n",
              "      <td>NaN</td>\n",
              "      <td>NaN</td>\n",
              "      <td>NaN</td>\n",
              "      <td>0</td>\n",
              "      <td>0</td>\n",
              "      <td>0</td>\n",
              "      <td>0</td>\n",
              "      <td>0</td>\n",
              "      <td>0</td>\n",
              "      <td>0</td>\n",
              "      <td>0</td>\n",
              "      <td>0</td>\n",
              "      <td>0</td>\n",
              "      <td>0</td>\n",
              "      <td>0</td>\n",
              "      <td>...</td>\n",
              "      <td>AABCDEBCEBCADAAAAEEEBCEEBDECDBACBEDEAABAACDBA</td>\n",
              "      <td>99999ADABAADAEABBAACDAABCDE*DABBABDAAEDAAAACBE...</td>\n",
              "      <td>AAAEDBCCEACBDDCBEAEBBCAAAABCCBABDCAAECCABCBDE</td>\n",
              "      <td>1</td>\n",
              "      <td>AAECACDEADCBCDDDBCBDADAEABCEBABEEBCBEECEBDADC</td>\n",
              "      <td>ACACEEBCCBABADBBBACDBBACCCCADCEBADCBEEDBBEADB</td>\n",
              "      <td>EBBADCABDABACBCEBDEEAAADDBECDECDDBADBCDAAECBCC...</td>\n",
              "      <td>EEEADBEBACABCDBABECECACDCBDCCEDCDABEDECDDDBAA</td>\n",
              "      <td>1.0</td>\n",
              "      <td>120.0</td>\n",
              "      <td>80.0</td>\n",
              "      <td>60.0</td>\n",
              "      <td>120.0</td>\n",
              "      <td>20.0</td>\n",
              "      <td>400.0</td>\n",
              "      <td>D</td>\n",
              "      <td>E</td>\n",
              "      <td>F</td>\n",
              "      <td>F</td>\n",
              "      <td>4</td>\n",
              "      <td>B</td>\n",
              "      <td>A</td>\n",
              "      <td>B</td>\n",
              "      <td>C</td>\n",
              "      <td>A</td>\n",
              "      <td>A</td>\n",
              "      <td>B</td>\n",
              "      <td>A</td>\n",
              "      <td>B</td>\n",
              "      <td>A</td>\n",
              "      <td>A</td>\n",
              "      <td>A</td>\n",
              "      <td>A</td>\n",
              "      <td>B</td>\n",
              "      <td>A</td>\n",
              "      <td>A</td>\n",
              "      <td>D</td>\n",
              "      <td>A</td>\n",
              "      <td>A</td>\n",
              "      <td>B</td>\n",
              "    </tr>\n",
              "    <tr>\n",
              "      <th>16</th>\n",
              "      <td>190001005202</td>\n",
              "      <td>2019</td>\n",
              "      <td>1502301</td>\n",
              "      <td>Capitão Poço</td>\n",
              "      <td>15</td>\n",
              "      <td>PA</td>\n",
              "      <td>17</td>\n",
              "      <td>F</td>\n",
              "      <td>1</td>\n",
              "      <td>3</td>\n",
              "      <td>2</td>\n",
              "      <td>NaN</td>\n",
              "      <td>NaN</td>\n",
              "      <td>NaN</td>\n",
              "      <td>NaN</td>\n",
              "      <td>3</td>\n",
              "      <td>0</td>\n",
              "      <td>1</td>\n",
              "      <td>NaN</td>\n",
              "      <td>1</td>\n",
              "      <td>NaN</td>\n",
              "      <td>NaN</td>\n",
              "      <td>NaN</td>\n",
              "      <td>NaN</td>\n",
              "      <td>NaN</td>\n",
              "      <td>NaN</td>\n",
              "      <td>NaN</td>\n",
              "      <td>NaN</td>\n",
              "      <td>0</td>\n",
              "      <td>0</td>\n",
              "      <td>0</td>\n",
              "      <td>0</td>\n",
              "      <td>0</td>\n",
              "      <td>0</td>\n",
              "      <td>0</td>\n",
              "      <td>0</td>\n",
              "      <td>0</td>\n",
              "      <td>0</td>\n",
              "      <td>0</td>\n",
              "      <td>0</td>\n",
              "      <td>...</td>\n",
              "      <td>EEEAABAADADCBCEDBCCACEEDBCBCBADBBAABDBBABCEAB</td>\n",
              "      <td>99999ECABECCBABCDAEADABEBEEBEEEEEDBDDBAACDAEAA...</td>\n",
              "      <td>ACBEDECCABCEDDEDCEDAACBCAADEEDCDEECBABEBAEC*B</td>\n",
              "      <td>1</td>\n",
              "      <td>AAECACDEADCBCDDDBCBDADAEABCEBABEEBCBEECEBDADC</td>\n",
              "      <td>BACCCBABBADCBCEEEBCACACEEDBCCADBEADBADBBBACDB</td>\n",
              "      <td>BDABEABCADBCBAADDBECDAAECDAECBECBCCDEEAAADDBBC...</td>\n",
              "      <td>EEEADBEBACABCDBABECECACDCBDCCEDCDABEDECDDDBAA</td>\n",
              "      <td>1.0</td>\n",
              "      <td>120.0</td>\n",
              "      <td>120.0</td>\n",
              "      <td>120.0</td>\n",
              "      <td>120.0</td>\n",
              "      <td>100.0</td>\n",
              "      <td>580.0</td>\n",
              "      <td>D</td>\n",
              "      <td>E</td>\n",
              "      <td>B</td>\n",
              "      <td>B</td>\n",
              "      <td>3</td>\n",
              "      <td>B</td>\n",
              "      <td>A</td>\n",
              "      <td>B</td>\n",
              "      <td>C</td>\n",
              "      <td>A</td>\n",
              "      <td>A</td>\n",
              "      <td>B</td>\n",
              "      <td>B</td>\n",
              "      <td>A</td>\n",
              "      <td>A</td>\n",
              "      <td>B</td>\n",
              "      <td>A</td>\n",
              "      <td>A</td>\n",
              "      <td>B</td>\n",
              "      <td>B</td>\n",
              "      <td>A</td>\n",
              "      <td>C</td>\n",
              "      <td>A</td>\n",
              "      <td>A</td>\n",
              "      <td>A</td>\n",
              "    </tr>\n",
              "    <tr>\n",
              "      <th>...</th>\n",
              "      <td>...</td>\n",
              "      <td>...</td>\n",
              "      <td>...</td>\n",
              "      <td>...</td>\n",
              "      <td>...</td>\n",
              "      <td>...</td>\n",
              "      <td>...</td>\n",
              "      <td>...</td>\n",
              "      <td>...</td>\n",
              "      <td>...</td>\n",
              "      <td>...</td>\n",
              "      <td>...</td>\n",
              "      <td>...</td>\n",
              "      <td>...</td>\n",
              "      <td>...</td>\n",
              "      <td>...</td>\n",
              "      <td>...</td>\n",
              "      <td>...</td>\n",
              "      <td>...</td>\n",
              "      <td>...</td>\n",
              "      <td>...</td>\n",
              "      <td>...</td>\n",
              "      <td>...</td>\n",
              "      <td>...</td>\n",
              "      <td>...</td>\n",
              "      <td>...</td>\n",
              "      <td>...</td>\n",
              "      <td>...</td>\n",
              "      <td>...</td>\n",
              "      <td>...</td>\n",
              "      <td>...</td>\n",
              "      <td>...</td>\n",
              "      <td>...</td>\n",
              "      <td>...</td>\n",
              "      <td>...</td>\n",
              "      <td>...</td>\n",
              "      <td>...</td>\n",
              "      <td>...</td>\n",
              "      <td>...</td>\n",
              "      <td>...</td>\n",
              "      <td>...</td>\n",
              "      <td>...</td>\n",
              "      <td>...</td>\n",
              "      <td>...</td>\n",
              "      <td>...</td>\n",
              "      <td>...</td>\n",
              "      <td>...</td>\n",
              "      <td>...</td>\n",
              "      <td>...</td>\n",
              "      <td>...</td>\n",
              "      <td>...</td>\n",
              "      <td>...</td>\n",
              "      <td>...</td>\n",
              "      <td>...</td>\n",
              "      <td>...</td>\n",
              "      <td>...</td>\n",
              "      <td>...</td>\n",
              "      <td>...</td>\n",
              "      <td>...</td>\n",
              "      <td>...</td>\n",
              "      <td>...</td>\n",
              "      <td>...</td>\n",
              "      <td>...</td>\n",
              "      <td>...</td>\n",
              "      <td>...</td>\n",
              "      <td>...</td>\n",
              "      <td>...</td>\n",
              "      <td>...</td>\n",
              "      <td>...</td>\n",
              "      <td>...</td>\n",
              "      <td>...</td>\n",
              "      <td>...</td>\n",
              "      <td>...</td>\n",
              "      <td>...</td>\n",
              "      <td>...</td>\n",
              "      <td>...</td>\n",
              "      <td>...</td>\n",
              "      <td>...</td>\n",
              "      <td>...</td>\n",
              "      <td>...</td>\n",
              "      <td>...</td>\n",
              "    </tr>\n",
              "    <tr>\n",
              "      <th>127328</th>\n",
              "      <td>190006117441</td>\n",
              "      <td>2019</td>\n",
              "      <td>3126752</td>\n",
              "      <td>Franciscópolis</td>\n",
              "      <td>31</td>\n",
              "      <td>MG</td>\n",
              "      <td>16</td>\n",
              "      <td>M</td>\n",
              "      <td>3</td>\n",
              "      <td>3</td>\n",
              "      <td>1</td>\n",
              "      <td>3126752.0</td>\n",
              "      <td>Franciscópolis</td>\n",
              "      <td>31.0</td>\n",
              "      <td>MG</td>\n",
              "      <td>3</td>\n",
              "      <td>0</td>\n",
              "      <td>1</td>\n",
              "      <td>NaN</td>\n",
              "      <td>1</td>\n",
              "      <td>NaN</td>\n",
              "      <td>NaN</td>\n",
              "      <td>NaN</td>\n",
              "      <td>NaN</td>\n",
              "      <td>NaN</td>\n",
              "      <td>NaN</td>\n",
              "      <td>NaN</td>\n",
              "      <td>NaN</td>\n",
              "      <td>0</td>\n",
              "      <td>0</td>\n",
              "      <td>0</td>\n",
              "      <td>0</td>\n",
              "      <td>0</td>\n",
              "      <td>0</td>\n",
              "      <td>0</td>\n",
              "      <td>0</td>\n",
              "      <td>0</td>\n",
              "      <td>0</td>\n",
              "      <td>0</td>\n",
              "      <td>0</td>\n",
              "      <td>...</td>\n",
              "      <td>EBCCABEAEAABACBEBBBBDCABABECDCACBDACCCBEEBCDE</td>\n",
              "      <td>DDADD99999DAABCDAECECBBBDDABBDECCBBACDDEABCCCE...</td>\n",
              "      <td>DCCBABCBCBDCCDAEACAADCCCDECBECBCA*BBCBCEBEBAB</td>\n",
              "      <td>0</td>\n",
              "      <td>DADCCEBBCCACBEEBEEBACBCDDDDADBCBBCEAEADEADAAE</td>\n",
              "      <td>CBABADBBCEEEBCBADCBEEDBBEADBBACDBBACCCCADACAC</td>\n",
              "      <td>BBEDABDACACBABAECBBCCADCEBDBBCDDEEAAADDBECDECA...</td>\n",
              "      <td>DBEBACABCDBABECEEEDCBDCCEDCDABEDAADDDECACAECB</td>\n",
              "      <td>1.0</td>\n",
              "      <td>120.0</td>\n",
              "      <td>40.0</td>\n",
              "      <td>40.0</td>\n",
              "      <td>140.0</td>\n",
              "      <td>0.0</td>\n",
              "      <td>340.0</td>\n",
              "      <td>B</td>\n",
              "      <td>C</td>\n",
              "      <td>C</td>\n",
              "      <td>B</td>\n",
              "      <td>6</td>\n",
              "      <td>C</td>\n",
              "      <td>A</td>\n",
              "      <td>B</td>\n",
              "      <td>C</td>\n",
              "      <td>A</td>\n",
              "      <td>A</td>\n",
              "      <td>B</td>\n",
              "      <td>B</td>\n",
              "      <td>A</td>\n",
              "      <td>A</td>\n",
              "      <td>A</td>\n",
              "      <td>A</td>\n",
              "      <td>A</td>\n",
              "      <td>B</td>\n",
              "      <td>A</td>\n",
              "      <td>A</td>\n",
              "      <td>D</td>\n",
              "      <td>A</td>\n",
              "      <td>A</td>\n",
              "      <td>B</td>\n",
              "    </tr>\n",
              "    <tr>\n",
              "      <th>127340</th>\n",
              "      <td>190006117776</td>\n",
              "      <td>2019</td>\n",
              "      <td>4305108</td>\n",
              "      <td>Caxias do Sul</td>\n",
              "      <td>43</td>\n",
              "      <td>RS</td>\n",
              "      <td>17</td>\n",
              "      <td>F</td>\n",
              "      <td>1</td>\n",
              "      <td>1</td>\n",
              "      <td>1</td>\n",
              "      <td>4305108.0</td>\n",
              "      <td>Caxias do Sul</td>\n",
              "      <td>43.0</td>\n",
              "      <td>RS</td>\n",
              "      <td>3</td>\n",
              "      <td>0</td>\n",
              "      <td>1</td>\n",
              "      <td>NaN</td>\n",
              "      <td>1</td>\n",
              "      <td>NaN</td>\n",
              "      <td>NaN</td>\n",
              "      <td>NaN</td>\n",
              "      <td>NaN</td>\n",
              "      <td>NaN</td>\n",
              "      <td>NaN</td>\n",
              "      <td>NaN</td>\n",
              "      <td>NaN</td>\n",
              "      <td>0</td>\n",
              "      <td>0</td>\n",
              "      <td>0</td>\n",
              "      <td>0</td>\n",
              "      <td>0</td>\n",
              "      <td>0</td>\n",
              "      <td>0</td>\n",
              "      <td>0</td>\n",
              "      <td>0</td>\n",
              "      <td>0</td>\n",
              "      <td>0</td>\n",
              "      <td>0</td>\n",
              "      <td>...</td>\n",
              "      <td>CABBABABABDCDBEEEBCACABEEADCCEECAACBADEAEDCCE</td>\n",
              "      <td>BDABE99999CCBABDACDCDAEECBEEACDABACDEBAAADDAAB...</td>\n",
              "      <td>ECAAECEBAECABDEACEABBAEEBAAEBCBCEBABAECBDCCAB</td>\n",
              "      <td>0</td>\n",
              "      <td>AAECACDEADCBCDDDBCBDADAEABCEBABEEBCBEECEBDADC</td>\n",
              "      <td>BACCCBABBADCBCEEEBCACACEEDBCCADBEADBADBBBACDB</td>\n",
              "      <td>BDABEABCADBCBAADDBECDAAECDAECBECBCCDEEAAADDBBC...</td>\n",
              "      <td>EEEADBEBACABCDBABECECACDCBDCCEDCDABEDECDDDBAA</td>\n",
              "      <td>1.0</td>\n",
              "      <td>160.0</td>\n",
              "      <td>120.0</td>\n",
              "      <td>160.0</td>\n",
              "      <td>140.0</td>\n",
              "      <td>140.0</td>\n",
              "      <td>720.0</td>\n",
              "      <td>E</td>\n",
              "      <td>G</td>\n",
              "      <td>D</td>\n",
              "      <td>E</td>\n",
              "      <td>2</td>\n",
              "      <td>H</td>\n",
              "      <td>A</td>\n",
              "      <td>C</td>\n",
              "      <td>D</td>\n",
              "      <td>B</td>\n",
              "      <td>A</td>\n",
              "      <td>B</td>\n",
              "      <td>B</td>\n",
              "      <td>B</td>\n",
              "      <td>B</td>\n",
              "      <td>B</td>\n",
              "      <td>A</td>\n",
              "      <td>B</td>\n",
              "      <td>A</td>\n",
              "      <td>A</td>\n",
              "      <td>A</td>\n",
              "      <td>C</td>\n",
              "      <td>A</td>\n",
              "      <td>C</td>\n",
              "      <td>B</td>\n",
              "    </tr>\n",
              "    <tr>\n",
              "      <th>127349</th>\n",
              "      <td>190006118483</td>\n",
              "      <td>2019</td>\n",
              "      <td>2511301</td>\n",
              "      <td>Piancó</td>\n",
              "      <td>25</td>\n",
              "      <td>PB</td>\n",
              "      <td>15</td>\n",
              "      <td>F</td>\n",
              "      <td>1</td>\n",
              "      <td>1</td>\n",
              "      <td>1</td>\n",
              "      <td>2511301.0</td>\n",
              "      <td>Piancó</td>\n",
              "      <td>25.0</td>\n",
              "      <td>PB</td>\n",
              "      <td>3</td>\n",
              "      <td>0</td>\n",
              "      <td>1</td>\n",
              "      <td>NaN</td>\n",
              "      <td>1</td>\n",
              "      <td>NaN</td>\n",
              "      <td>NaN</td>\n",
              "      <td>NaN</td>\n",
              "      <td>NaN</td>\n",
              "      <td>NaN</td>\n",
              "      <td>NaN</td>\n",
              "      <td>NaN</td>\n",
              "      <td>NaN</td>\n",
              "      <td>0</td>\n",
              "      <td>0</td>\n",
              "      <td>0</td>\n",
              "      <td>0</td>\n",
              "      <td>0</td>\n",
              "      <td>0</td>\n",
              "      <td>0</td>\n",
              "      <td>0</td>\n",
              "      <td>0</td>\n",
              "      <td>0</td>\n",
              "      <td>0</td>\n",
              "      <td>0</td>\n",
              "      <td>...</td>\n",
              "      <td>AACEBDCBCBECACEBEABDCADBACBBECAEABCCCAEDBBDCE</td>\n",
              "      <td>99999AEACBAABCEECBCECBDABAAADCBEBCDCDECBAEEDEB...</td>\n",
              "      <td>DACEAEABDEACAECCBCCBCDDCABEEBABBCDABBADCDAEAE</td>\n",
              "      <td>1</td>\n",
              "      <td>BEEAAEBEEBADEADDADAEABCEDDDBCBCBCCACBCDADCCEB</td>\n",
              "      <td>EEBCEEDBADBBCBABCCADCEBACDBBACCACACBEADBBADCB</td>\n",
              "      <td>ADBBEDCABAABBCBCDAAECDDDBAAAECADECDCEBDEEAECBD...</td>\n",
              "      <td>BEDEEEAADBEBACABCDBABECECACADCBDCCEDCDABECDDD</td>\n",
              "      <td>1.0</td>\n",
              "      <td>160.0</td>\n",
              "      <td>120.0</td>\n",
              "      <td>120.0</td>\n",
              "      <td>140.0</td>\n",
              "      <td>0.0</td>\n",
              "      <td>540.0</td>\n",
              "      <td>C</td>\n",
              "      <td>E</td>\n",
              "      <td>C</td>\n",
              "      <td>A</td>\n",
              "      <td>3</td>\n",
              "      <td>B</td>\n",
              "      <td>A</td>\n",
              "      <td>B</td>\n",
              "      <td>B</td>\n",
              "      <td>A</td>\n",
              "      <td>A</td>\n",
              "      <td>B</td>\n",
              "      <td>A</td>\n",
              "      <td>A</td>\n",
              "      <td>A</td>\n",
              "      <td>A</td>\n",
              "      <td>A</td>\n",
              "      <td>A</td>\n",
              "      <td>B</td>\n",
              "      <td>A</td>\n",
              "      <td>A</td>\n",
              "      <td>B</td>\n",
              "      <td>A</td>\n",
              "      <td>A</td>\n",
              "      <td>A</td>\n",
              "    </tr>\n",
              "    <tr>\n",
              "      <th>127350</th>\n",
              "      <td>190006118551</td>\n",
              "      <td>2019</td>\n",
              "      <td>2611606</td>\n",
              "      <td>Recife</td>\n",
              "      <td>26</td>\n",
              "      <td>PE</td>\n",
              "      <td>16</td>\n",
              "      <td>M</td>\n",
              "      <td>1</td>\n",
              "      <td>1</td>\n",
              "      <td>1</td>\n",
              "      <td>4113700.0</td>\n",
              "      <td>Londrina</td>\n",
              "      <td>41.0</td>\n",
              "      <td>PR</td>\n",
              "      <td>3</td>\n",
              "      <td>0</td>\n",
              "      <td>1</td>\n",
              "      <td>NaN</td>\n",
              "      <td>1</td>\n",
              "      <td>NaN</td>\n",
              "      <td>NaN</td>\n",
              "      <td>NaN</td>\n",
              "      <td>NaN</td>\n",
              "      <td>NaN</td>\n",
              "      <td>NaN</td>\n",
              "      <td>NaN</td>\n",
              "      <td>NaN</td>\n",
              "      <td>0</td>\n",
              "      <td>0</td>\n",
              "      <td>0</td>\n",
              "      <td>0</td>\n",
              "      <td>0</td>\n",
              "      <td>0</td>\n",
              "      <td>0</td>\n",
              "      <td>0</td>\n",
              "      <td>0</td>\n",
              "      <td>0</td>\n",
              "      <td>0</td>\n",
              "      <td>0</td>\n",
              "      <td>...</td>\n",
              "      <td>EEACCADBADBEABAECCDDCEEACDBBAECCCBCBDECBDBDCD</td>\n",
              "      <td>ADBBE99999BDECBCCDAEDCDDDAAAECBEECDCBBDEADEEBD...</td>\n",
              "      <td>DEEBBECBCDEACECEEEECBDCCEDCECBEDAADDDEDAEAECD</td>\n",
              "      <td>0</td>\n",
              "      <td>DADCCEBBCCACBEEBEEBACBCDDDDADBCBBCEAEADEADAAE</td>\n",
              "      <td>EEBCEEDBADBBCBABCCADCEBACDBBACCACACBEADBBADCB</td>\n",
              "      <td>ADBBEDCABAABBCBCDAAECDDDBAAAECADECDCEBDEEAECBD...</td>\n",
              "      <td>DBEBACABCDBABECEEEDCBDCCEDCDABEDAADDDECACAECB</td>\n",
              "      <td>1.0</td>\n",
              "      <td>160.0</td>\n",
              "      <td>160.0</td>\n",
              "      <td>180.0</td>\n",
              "      <td>180.0</td>\n",
              "      <td>160.0</td>\n",
              "      <td>840.0</td>\n",
              "      <td>G</td>\n",
              "      <td>G</td>\n",
              "      <td>D</td>\n",
              "      <td>D</td>\n",
              "      <td>4</td>\n",
              "      <td>H</td>\n",
              "      <td>D</td>\n",
              "      <td>E</td>\n",
              "      <td>D</td>\n",
              "      <td>D</td>\n",
              "      <td>A</td>\n",
              "      <td>B</td>\n",
              "      <td>B</td>\n",
              "      <td>B</td>\n",
              "      <td>B</td>\n",
              "      <td>B</td>\n",
              "      <td>A</td>\n",
              "      <td>B</td>\n",
              "      <td>E</td>\n",
              "      <td>B</td>\n",
              "      <td>B</td>\n",
              "      <td>E</td>\n",
              "      <td>B</td>\n",
              "      <td>B</td>\n",
              "      <td>B</td>\n",
              "    </tr>\n",
              "    <tr>\n",
              "      <th>127352</th>\n",
              "      <td>190006118561</td>\n",
              "      <td>2019</td>\n",
              "      <td>2600807</td>\n",
              "      <td>Altinho</td>\n",
              "      <td>26</td>\n",
              "      <td>PE</td>\n",
              "      <td>18</td>\n",
              "      <td>M</td>\n",
              "      <td>1</td>\n",
              "      <td>3</td>\n",
              "      <td>1</td>\n",
              "      <td>2611606.0</td>\n",
              "      <td>Recife</td>\n",
              "      <td>26.0</td>\n",
              "      <td>PE</td>\n",
              "      <td>3</td>\n",
              "      <td>0</td>\n",
              "      <td>1</td>\n",
              "      <td>NaN</td>\n",
              "      <td>1</td>\n",
              "      <td>NaN</td>\n",
              "      <td>NaN</td>\n",
              "      <td>NaN</td>\n",
              "      <td>NaN</td>\n",
              "      <td>NaN</td>\n",
              "      <td>NaN</td>\n",
              "      <td>NaN</td>\n",
              "      <td>NaN</td>\n",
              "      <td>0</td>\n",
              "      <td>0</td>\n",
              "      <td>0</td>\n",
              "      <td>0</td>\n",
              "      <td>0</td>\n",
              "      <td>0</td>\n",
              "      <td>0</td>\n",
              "      <td>0</td>\n",
              "      <td>0</td>\n",
              "      <td>0</td>\n",
              "      <td>0</td>\n",
              "      <td>0</td>\n",
              "      <td>...</td>\n",
              "      <td>CDBBBABBDBBCDCAECADBABBDACBEACCABDCDCDCDBACDD</td>\n",
              "      <td>CEDBC99999CEDBCEDDECDDCCBAEEBCBBEACBDADABCADEA...</td>\n",
              "      <td>CEDCBBDEBDEDCACCCDECCACDBECDCABAEDBAABDDDEDEE</td>\n",
              "      <td>0</td>\n",
              "      <td>DADCCEBBCCACBEEBEEBACBCDDDDADBCBBCEAEADEADAAE</td>\n",
              "      <td>BACCCBABBADCBCEEEBCACACEEDBCCADBEADBADBBBACDB</td>\n",
              "      <td>BDABEABCADBCBAADDBECDAAECDAECBECBCCDEEAAADDBBC...</td>\n",
              "      <td>DBEBACABCDBABECEEEDCBDCCEDCDABEDAADDDECACAECB</td>\n",
              "      <td>1.0</td>\n",
              "      <td>100.0</td>\n",
              "      <td>40.0</td>\n",
              "      <td>40.0</td>\n",
              "      <td>80.0</td>\n",
              "      <td>0.0</td>\n",
              "      <td>260.0</td>\n",
              "      <td>E</td>\n",
              "      <td>D</td>\n",
              "      <td>C</td>\n",
              "      <td>C</td>\n",
              "      <td>3</td>\n",
              "      <td>B</td>\n",
              "      <td>A</td>\n",
              "      <td>B</td>\n",
              "      <td>C</td>\n",
              "      <td>A</td>\n",
              "      <td>A</td>\n",
              "      <td>B</td>\n",
              "      <td>A</td>\n",
              "      <td>B</td>\n",
              "      <td>A</td>\n",
              "      <td>A</td>\n",
              "      <td>A</td>\n",
              "      <td>A</td>\n",
              "      <td>B</td>\n",
              "      <td>A</td>\n",
              "      <td>A</td>\n",
              "      <td>B</td>\n",
              "      <td>A</td>\n",
              "      <td>A</td>\n",
              "      <td>B</td>\n",
              "    </tr>\n",
              "  </tbody>\n",
              "</table>\n",
              "<p>15401 rows × 136 columns</p>\n",
              "</div>"
            ],
            "text/plain": [
              "        NU_INSCRICAO  NU_ANO  CO_MUNICIPIO_RESIDENCIA  ... Q023  Q024 Q025\n",
              "0       190001004661    2019                  1506138  ...    A     B    B\n",
              "4       190001004776    2019                  1500800  ...    A     A    B\n",
              "12      190001005076    2019                  1506138  ...    A     A    B\n",
              "14      190001005081    2019                  1506807  ...    A     A    B\n",
              "16      190001005202    2019                  1502301  ...    A     A    A\n",
              "...              ...     ...                      ...  ...  ...   ...  ...\n",
              "127328  190006117441    2019                  3126752  ...    A     A    B\n",
              "127340  190006117776    2019                  4305108  ...    A     C    B\n",
              "127349  190006118483    2019                  2511301  ...    A     A    A\n",
              "127350  190006118551    2019                  2611606  ...    B     B    B\n",
              "127352  190006118561    2019                  2600807  ...    A     A    B\n",
              "\n",
              "[15401 rows x 136 columns]"
            ]
          },
          "metadata": {
            "tags": []
          },
          "execution_count": 29
        }
      ]
    },
    {
      "cell_type": "markdown",
      "metadata": {
        "id": "hoAf6PuQo6uS"
      },
      "source": [
        "Quantos treineiros por idade ?"
      ]
    },
    {
      "cell_type": "code",
      "metadata": {
        "id": "3SEF99Cmo-rG",
        "outputId": "f53aed26-53dd-484c-df0c-bd2575da3620",
        "colab": {
          "base_uri": "https://localhost:8080/",
          "height": 663
        }
      },
      "source": [
        "dados.query(\"IN_TREINEIRO == 1\")[\"NU_IDADE\"].value_counts().sort_index()"
      ],
      "execution_count": 30,
      "outputs": [
        {
          "output_type": "execute_result",
          "data": {
            "text/plain": [
              "14      64\n",
              "15    1927\n",
              "16    7142\n",
              "17    4901\n",
              "18     858\n",
              "19     228\n",
              "20      83\n",
              "21      44\n",
              "22      30\n",
              "23      21\n",
              "24      13\n",
              "25       8\n",
              "26      13\n",
              "27       9\n",
              "28       6\n",
              "29      10\n",
              "30       4\n",
              "31       4\n",
              "32       2\n",
              "33       1\n",
              "34       3\n",
              "35       2\n",
              "36       2\n",
              "37       1\n",
              "38       4\n",
              "39       2\n",
              "40       4\n",
              "41       1\n",
              "42       4\n",
              "44       2\n",
              "45       1\n",
              "46       2\n",
              "47       1\n",
              "48       1\n",
              "51       1\n",
              "55       1\n",
              "62       1\n",
              "Name: NU_IDADE, dtype: int64"
            ]
          },
          "metadata": {
            "tags": []
          },
          "execution_count": 30
        }
      ]
    },
    {
      "cell_type": "markdown",
      "metadata": {
        "id": "VFEVba6Ep93m"
      },
      "source": [
        "DESAFIO 04: Plotar os Histogramas das idades dos treineiros e não treineiros"
      ]
    },
    {
      "cell_type": "code",
      "metadata": {
        "id": "Hi1NaTiCq-iQ",
        "outputId": "ae56bc37-cbcc-4aae-937d-23947101993e",
        "colab": {
          "base_uri": "https://localhost:8080/",
          "height": 500
        }
      },
      "source": [
        "dados.query(\"IN_TREINEIRO == 1\")[\"NU_IDADE\"].hist(bins = 50, figsize = (10,8))\n",
        "dados.query(\"IN_TREINEIRO == 0\")[\"NU_IDADE\"].hist(bins = 50, figsize = (10,8))\n"
      ],
      "execution_count": 44,
      "outputs": [
        {
          "output_type": "execute_result",
          "data": {
            "text/plain": [
              "<matplotlib.axes._subplots.AxesSubplot at 0x7f8d27bfbef0>"
            ]
          },
          "metadata": {
            "tags": []
          },
          "execution_count": 44
        },
        {
          "output_type": "display_data",
          "data": {
            "image/png": "[encoded data removed]",
            "text/plain": [
              "<Figure size 720x576 with 1 Axes>"
            ]
          },
          "metadata": {
            "tags": [],
            "needs_background": "light"
          }
        }
      ]
    },
    {
      "cell_type": "markdown",
      "metadata": {
        "id": "1PtfsuyWskAT"
      },
      "source": [
        "Histograma das Notas de Redação"
      ]
    },
    {
      "cell_type": "code",
      "metadata": {
        "id": "XKosvpjusoHV",
        "outputId": "12b6e383-516c-4ee7-f58a-d7830ca0417d",
        "colab": {
          "base_uri": "https://localhost:8080/",
          "height": 500
        }
      },
      "source": [
        "dados[\"NU_NOTA_REDACAO\"].hist(bins = 20, figsize=(10, 8))\n"
      ],
      "execution_count": 47,
      "outputs": [
        {
          "output_type": "execute_result",
          "data": {
            "text/plain": [
              "<matplotlib.axes._subplots.AxesSubplot at 0x7f8d27936048>"
            ]
          },
          "metadata": {
            "tags": []
          },
          "execution_count": 47
        },
        {
          "output_type": "display_data",
          "data": {
            "image/png": "[encoded data removed]",
            "text/plain": [
              "<Figure size 720x576 with 1 Axes>"
            ]
          },
          "metadata": {
            "tags": [],
            "needs_background": "light"
          }
        }
      ]
    },
    {
      "cell_type": "markdown",
      "metadata": {
        "id": "tRGD_8wbtAEY"
      },
      "source": [
        "Histograma das Notas de Linguagens e Código"
      ]
    },
    {
      "cell_type": "code",
      "metadata": {
        "id": "3WXZMTeEtEId",
        "outputId": "15ab1b16-daa1-41e6-954a-2f1378d56b23",
        "colab": {
          "base_uri": "https://localhost:8080/",
          "height": 500
        }
      },
      "source": [
        "dados[\"NU_NOTA_LC\"].hist(bins = 20, figsize=(10, 8))"
      ],
      "execution_count": 46,
      "outputs": [
        {
          "output_type": "execute_result",
          "data": {
            "text/plain": [
              "<matplotlib.axes._subplots.AxesSubplot at 0x7f8d27a245c0>"
            ]
          },
          "metadata": {
            "tags": []
          },
          "execution_count": 46
        },
        {
          "output_type": "display_data",
          "data": {
            "image/png": "[encoded data removed]",
            "text/plain": [
              "<Figure size 720x576 with 1 Axes>"
            ]
          },
          "metadata": {
            "tags": [],
            "needs_background": "light"
          }
        }
      ]
    },
    {
      "cell_type": "markdown",
      "metadata": {
        "id": "0xrjJtinvoHI"
      },
      "source": [
        "Qual a Média da Nota de Redação ?"
      ]
    },
    {
      "cell_type": "code",
      "metadata": {
        "id": "Lh_vyYrUvv7X",
        "outputId": "fb3ca687-1def-4b50-f054-b9790a5cf0ff",
        "colab": {
          "base_uri": "https://localhost:8080/",
          "height": 34
        }
      },
      "source": [
        "dados[\"NU_NOTA_REDACAO\"].mean()"
      ],
      "execution_count": 48,
      "outputs": [
        {
          "output_type": "execute_result",
          "data": {
            "text/plain": [
              "571.5700253970197"
            ]
          },
          "metadata": {
            "tags": []
          },
          "execution_count": 48
        }
      ]
    },
    {
      "cell_type": "markdown",
      "metadata": {
        "id": "joVIVaNDv5dT"
      },
      "source": [
        "Qual o Desvio Padrão das Notas de Redação ?"
      ]
    },
    {
      "cell_type": "code",
      "metadata": {
        "id": "-GvnjDi4v9rq",
        "outputId": "9a61b74a-c1c3-4b05-ec02-df4fa82b85bf",
        "colab": {
          "base_uri": "https://localhost:8080/",
          "height": 34
        }
      },
      "source": [
        "dados[\"NU_NOTA_REDACAO\"].std()"
      ],
      "execution_count": 50,
      "outputs": [
        {
          "output_type": "execute_result",
          "data": {
            "text/plain": [
              "188.07645455749753"
            ]
          },
          "metadata": {
            "tags": []
          },
          "execution_count": 50
        }
      ]
    },
    {
      "cell_type": "markdown",
      "metadata": {
        "id": "PW0aPrcnxLuA"
      },
      "source": [
        "Selecionar Somente as Notas das Provas e Avalie Estatisticamente"
      ]
    },
    {
      "cell_type": "code",
      "metadata": {
        "id": "9APXfJtpxPXV",
        "outputId": "63c8215d-c39e-428b-fe5a-609a2fcfd1d8",
        "colab": {
          "base_uri": "https://localhost:8080/",
          "height": 297
        }
      },
      "source": [
        "provas = [\"NU_NOTA_CN\",\"NU_NOTA_CH\",\"NU_NOTA_MT\",\"NU_NOTA_LC\",\"NU_NOTA_REDACAO\"]\n",
        "\n",
        "\n",
        "dados[provas].describe()"
      ],
      "execution_count": 51,
      "outputs": [
        {
          "output_type": "execute_result",
          "data": {
            "text/html": [
              "<div>\n",
              "<style scoped>\n",
              "    .dataframe tbody tr th:only-of-type {\n",
              "        vertical-align: middle;\n",
              "    }\n",
              "\n",
              "    .dataframe tbody tr th {\n",
              "        vertical-align: top;\n",
              "    }\n",
              "\n",
              "    .dataframe thead th {\n",
              "        text-align: right;\n",
              "    }\n",
              "</style>\n",
              "<table border=\"1\" class=\"dataframe\">\n",
              "  <thead>\n",
              "    <tr style=\"text-align: right;\">\n",
              "      <th></th>\n",
              "      <th>NU_NOTA_CN</th>\n",
              "      <th>NU_NOTA_CH</th>\n",
              "      <th>NU_NOTA_MT</th>\n",
              "      <th>NU_NOTA_LC</th>\n",
              "      <th>NU_NOTA_REDACAO</th>\n",
              "    </tr>\n",
              "  </thead>\n",
              "  <tbody>\n",
              "    <tr>\n",
              "      <th>count</th>\n",
              "      <td>92758.000000</td>\n",
              "      <td>98043.000000</td>\n",
              "      <td>92758.000000</td>\n",
              "      <td>98043.000000</td>\n",
              "      <td>98043.000000</td>\n",
              "    </tr>\n",
              "    <tr>\n",
              "      <th>mean</th>\n",
              "      <td>477.964015</td>\n",
              "      <td>507.365912</td>\n",
              "      <td>523.555206</td>\n",
              "      <td>520.463928</td>\n",
              "      <td>571.570025</td>\n",
              "    </tr>\n",
              "    <tr>\n",
              "      <th>std</th>\n",
              "      <td>76.296099</td>\n",
              "      <td>82.972839</td>\n",
              "      <td>109.416939</td>\n",
              "      <td>64.556578</td>\n",
              "      <td>188.076455</td>\n",
              "    </tr>\n",
              "    <tr>\n",
              "      <th>min</th>\n",
              "      <td>0.000000</td>\n",
              "      <td>0.000000</td>\n",
              "      <td>0.000000</td>\n",
              "      <td>0.000000</td>\n",
              "      <td>0.000000</td>\n",
              "    </tr>\n",
              "    <tr>\n",
              "      <th>25%</th>\n",
              "      <td>418.000000</td>\n",
              "      <td>447.900000</td>\n",
              "      <td>435.300000</td>\n",
              "      <td>483.700000</td>\n",
              "      <td>480.000000</td>\n",
              "    </tr>\n",
              "    <tr>\n",
              "      <th>50%</th>\n",
              "      <td>470.200000</td>\n",
              "      <td>510.900000</td>\n",
              "      <td>501.600000</td>\n",
              "      <td>526.100000</td>\n",
              "      <td>580.000000</td>\n",
              "    </tr>\n",
              "    <tr>\n",
              "      <th>75%</th>\n",
              "      <td>533.300000</td>\n",
              "      <td>567.100000</td>\n",
              "      <td>598.200000</td>\n",
              "      <td>565.100000</td>\n",
              "      <td>680.000000</td>\n",
              "    </tr>\n",
              "    <tr>\n",
              "      <th>max</th>\n",
              "      <td>797.300000</td>\n",
              "      <td>809.400000</td>\n",
              "      <td>985.000000</td>\n",
              "      <td>801.700000</td>\n",
              "      <td>1000.000000</td>\n",
              "    </tr>\n",
              "  </tbody>\n",
              "</table>\n",
              "</div>"
            ],
            "text/plain": [
              "         NU_NOTA_CN    NU_NOTA_CH    NU_NOTA_MT    NU_NOTA_LC  NU_NOTA_REDACAO\n",
              "count  92758.000000  98043.000000  92758.000000  98043.000000     98043.000000\n",
              "mean     477.964015    507.365912    523.555206    520.463928       571.570025\n",
              "std       76.296099     82.972839    109.416939     64.556578       188.076455\n",
              "min        0.000000      0.000000      0.000000      0.000000         0.000000\n",
              "25%      418.000000    447.900000    435.300000    483.700000       480.000000\n",
              "50%      470.200000    510.900000    501.600000    526.100000       580.000000\n",
              "75%      533.300000    567.100000    598.200000    565.100000       680.000000\n",
              "max      797.300000    809.400000    985.000000    801.700000      1000.000000"
            ]
          },
          "metadata": {
            "tags": []
          },
          "execution_count": 51
        }
      ]
    },
    {
      "cell_type": "markdown",
      "metadata": {
        "id": "cojuXUJfzY3s"
      },
      "source": [
        "Faça um Boxplot a Respeito das Notas de Linguagens e Códigos"
      ]
    },
    {
      "cell_type": "code",
      "metadata": {
        "id": "1h0DqxjrzgZi",
        "outputId": "49acf882-6233-4bcb-9fdd-e583b4528904",
        "colab": {
          "base_uri": "https://localhost:8080/",
          "height": 283
        }
      },
      "source": [
        "dados[\"NU_NOTA_LC\"].plot.box(grid = True, figsize=(5,4))"
      ],
      "execution_count": 52,
      "outputs": [
        {
          "output_type": "execute_result",
          "data": {
            "text/plain": [
              "<matplotlib.axes._subplots.AxesSubplot at 0x7f8d278d45f8>"
            ]
          },
          "metadata": {
            "tags": []
          },
          "execution_count": 52
        },
        {
          "output_type": "display_data",
          "data": {
            "image/png": "[encoded data removed]",
            "text/plain": [
              "<Figure size 360x288 with 1 Axes>"
            ]
          },
          "metadata": {
            "tags": [],
            "needs_background": "light"
          }
        }
      ]
    }
  ]
}